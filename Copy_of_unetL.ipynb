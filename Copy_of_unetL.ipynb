{
  "nbformat": 4,
  "nbformat_minor": 0,
  "metadata": {
    "colab": {
      "name": "Copy of unetL",
      "provenance": [],
      "collapsed_sections": [],
      "include_colab_link": true
    },
    "kernelspec": {
      "name": "python3",
      "display_name": "Python 3"
    },
    "accelerator": "GPU"
  },
  "cells": [
    {
      "cell_type": "markdown",
      "metadata": {
        "id": "view-in-github",
        "colab_type": "text"
      },
      "source": [
        "<a href=\"https://colab.research.google.com/github/darockz659/ideal-octo-giggle/blob/master/Copy_of_unetL.ipynb\" target=\"_parent\"><img src=\"https://colab.research.google.com/assets/colab-badge.svg\" alt=\"Open In Colab\"/></a>"
      ]
    },
    {
      "cell_type": "code",
      "metadata": {
        "id": "wo7bSewLXWrT"
      },
      "source": [
        "import cv2\n",
        "import tensorflow as tf\n",
        "import numpy as np\n",
        "import matplotlib.pyplot as plt\n",
        "import os\n",
        "import keras\n",
        "from tqdm import tqdm"
      ],
      "execution_count": null,
      "outputs": []
    },
    {
      "cell_type": "code",
      "metadata": {
        "id": "UFDY1kQuoMUZ",
        "colab": {
          "base_uri": "https://localhost:8080/"
        },
        "outputId": "dfcd731c-65da-4d8a-944a-dc7caf402bae"
      },
      "source": [
        "!nvidia-smi"
      ],
      "execution_count": null,
      "outputs": [
        {
          "output_type": "stream",
          "name": "stdout",
          "text": [
            "Sun Sep 12 15:51:11 2021       \n",
            "+-----------------------------------------------------------------------------+\n",
            "| NVIDIA-SMI 470.63.01    Driver Version: 460.32.03    CUDA Version: 11.2     |\n",
            "|-------------------------------+----------------------+----------------------+\n",
            "| GPU  Name        Persistence-M| Bus-Id        Disp.A | Volatile Uncorr. ECC |\n",
            "| Fan  Temp  Perf  Pwr:Usage/Cap|         Memory-Usage | GPU-Util  Compute M. |\n",
            "|                               |                      |               MIG M. |\n",
            "|===============================+======================+======================|\n",
            "|   0  Tesla K80           Off  | 00000000:00:04.0 Off |                    0 |\n",
            "| N/A   62C    P8    30W / 149W |      0MiB / 11441MiB |      0%      Default |\n",
            "|                               |                      |                  N/A |\n",
            "+-------------------------------+----------------------+----------------------+\n",
            "                                                                               \n",
            "+-----------------------------------------------------------------------------+\n",
            "| Processes:                                                                  |\n",
            "|  GPU   GI   CI        PID   Type   Process name                  GPU Memory |\n",
            "|        ID   ID                                                   Usage      |\n",
            "|=============================================================================|\n",
            "|  No running processes found                                                 |\n",
            "+-----------------------------------------------------------------------------+\n"
          ]
        }
      ]
    },
    {
      "cell_type": "code",
      "metadata": {
        "id": "371ftPg8XjcZ",
        "colab": {
          "base_uri": "https://localhost:8080/"
        },
        "outputId": "b7e72738-8955-4cd4-f141-876cc59422f3"
      },
      "source": [
        "from google.colab import drive\n",
        "drive.mount('/content/drive/')"
      ],
      "execution_count": null,
      "outputs": [
        {
          "output_type": "stream",
          "name": "stdout",
          "text": [
            "Drive already mounted at /content/drive/; to attempt to forcibly remount, call drive.mount(\"/content/drive/\", force_remount=True).\n"
          ]
        }
      ]
    },
    {
      "cell_type": "code",
      "metadata": {
        "colab": {
          "base_uri": "https://localhost:8080/"
        },
        "id": "EPn0L183Nin_",
        "outputId": "81bab075-fa69-40a2-d908-2c235793f991"
      },
      "source": [
        "!unzip '/content/drive/MyDrive/OUHANDS/OUHANDS.zip'"
      ],
      "execution_count": null,
      "outputs": [
        {
          "output_type": "stream",
          "name": "stdout",
          "text": [
            "Archive:  /content/drive/MyDrive/OUHANDS/OUHANDS.zip\n",
            "replace archive/annos/A-ima-0001.xml? [y]es, [n]o, [A]ll, [N]one, [r]ename: "
          ]
        }
      ]
    },
    {
      "cell_type": "code",
      "metadata": {
        "id": "do79SzZLXmJd"
      },
      "source": [
        "IMG_WIDTH = 320\n",
        "IMG_HEIGHT = 320\n",
        "IMG_CHANNELS = 3"
      ],
      "execution_count": null,
      "outputs": []
    },
    {
      "cell_type": "code",
      "metadata": {
        "colab": {
          "base_uri": "https://localhost:8080/"
        },
        "id": "EPc6jBakOd2B",
        "outputId": "ed5b8b40-0435-43be-afa4-2c7dea525df5"
      },
      "source": [
        "from google.colab import drive\n",
        "drive.mount('/content/drive')"
      ],
      "execution_count": null,
      "outputs": [
        {
          "output_type": "stream",
          "name": "stdout",
          "text": [
            "Drive already mounted at /content/drive; to attempt to forcibly remount, call drive.mount(\"/content/drive\", force_remount=True).\n"
          ]
        }
      ]
    },
    {
      "cell_type": "code",
      "metadata": {
        "id": "8m3BXWIXXof0",
        "colab": {
          "base_uri": "https://localhost:8080/"
        },
        "outputId": "6aa9ef88-7509-42b6-c6b7-837ada433894"
      },
      "source": [
        "path = '/content/archive/OUHANDS_train/train/hand_data/colour'\n",
        "\n",
        "maskpath ='/content/archive/OUHANDS_train/train/hand_data/segmentation'\n",
        "\n",
        "X_train = np.zeros((len(os.listdir(path)), IMG_HEIGHT, IMG_WIDTH,IMG_CHANNELS),dtype=np.uint8)\n",
        "Y_train = np.zeros((len(os.listdir(maskpath)), IMG_HEIGHT, IMG_WIDTH,1))\n",
        "\n",
        "print('creating input data')\n",
        "n=0\n",
        "for name in tqdm(os.listdir(path)):\n",
        "    newpath = os.path.join(path,name)\n",
        "    img=cv2.imread(newpath)\n",
        "    img=cv2.resize(img,(IMG_WIDTH,IMG_HEIGHT))\n",
        "    X_train[n]=img\n",
        "    n+=1\n",
        "\n",
        "m=0\n",
        "for name in tqdm(os.listdir(maskpath)):\n",
        "    newmaskpath = os.path.join(maskpath,name)\n",
        "    mpg=cv2.imread(newmaskpath,0)\n",
        "    mpg=cv2.resize(mpg,(IMG_WIDTH,IMG_HEIGHT))\n",
        "    mpg=np.expand_dims(mpg,axis=-1)\n",
        "    Y_train[m]=mpg/255\n",
        "    m+=1\n"
      ],
      "execution_count": null,
      "outputs": [
        {
          "output_type": "stream",
          "name": "stdout",
          "text": [
            "creating input data\n"
          ]
        },
        {
          "output_type": "stream",
          "name": "stderr",
          "text": [
            "100%|██████████| 2000/2000 [00:22<00:00, 87.64it/s]\n",
            "100%|██████████| 2000/2000 [00:04<00:00, 478.63it/s]\n"
          ]
        }
      ]
    },
    {
      "cell_type": "code",
      "metadata": {
        "id": "da6JfrF8iiir"
      },
      "source": [
        "from sklearn.model_selection import StratifiedKFold"
      ],
      "execution_count": null,
      "outputs": []
    },
    {
      "cell_type": "markdown",
      "metadata": {
        "id": "4_gc2-ibrTRm"
      },
      "source": [
        "# New section"
      ]
    },
    {
      "cell_type": "code",
      "metadata": {
        "id": "dkCSgNN8qijD",
        "colab": {
          "base_uri": "https://localhost:8080/"
        },
        "outputId": "a2cbd12a-521a-4b28-bd96-75297c8ca585"
      },
      "source": [
        "X_train.shape"
      ],
      "execution_count": null,
      "outputs": [
        {
          "output_type": "execute_result",
          "data": {
            "text/plain": [
              "(2000, 320, 320, 3)"
            ]
          },
          "metadata": {},
          "execution_count": 11
        }
      ]
    },
    {
      "cell_type": "code",
      "metadata": {
        "id": "SLa4WrbnXvEM",
        "colab": {
          "base_uri": "https://localhost:8080/"
        },
        "outputId": "6805c958-f9d9-45a8-ba4f-92623e5e391c"
      },
      "source": [
        "#Build the model\n",
        "inputs = tf.keras.layers.Input((IMG_HEIGHT, IMG_WIDTH, IMG_CHANNELS))\n",
        "s = tf.keras.layers.Lambda(lambda x: x / 255)(inputs)\n",
        "\n",
        "#Contraction path\n",
        "\n",
        "c1 = tf.keras.layers.Conv2D(16, (3, 3), kernel_initializer='he_normal', padding='same')(s)\n",
        "c1 = tf.keras.layers.BatchNormalization()(c1)\n",
        "c1 = tf.keras.layers.ReLU()(c1)\n",
        "c1 = tf.keras.layers.Conv2D(32, (3, 3), kernel_initializer='he_normal', padding='same')(c1)\n",
        "c1 = tf.keras.layers.BatchNormalization()(c1)\n",
        "c1 = tf.keras.layers.ReLU()(c1)\n",
        "c1 = tf.keras.layers.Dropout(0.1)(c1)\n",
        "c1 = tf.keras.layers.Conv2D(16, (3, 3), kernel_initializer='he_normal', padding='same')(c1)\n",
        "c1 = tf.keras.layers.BatchNormalization()(c1)\n",
        "c1 = tf.keras.layers.ReLU()(c1)\n",
        "p1 = tf.keras.layers.MaxPooling2D((2, 2))(c1)\n",
        "\n",
        "c2 = tf.keras.layers.Conv2D(32, (3, 3), kernel_initializer='he_normal', padding='same')(p1)\n",
        "c2 = tf.keras.layers.BatchNormalization()(c2)\n",
        "c2 = tf.keras.layers.ReLU()(c2)\n",
        "c2 = tf.keras.layers.Conv2D(64, (3, 3), kernel_initializer='he_normal', padding='same')(c2)\n",
        "c2 = tf.keras.layers.BatchNormalization()(c2)\n",
        "c2 = tf.keras.layers.ReLU()(c2)\n",
        "c2 = tf.keras.layers.Dropout(0.1)(c2)\n",
        "c2 = tf.keras.layers.Conv2D(32, (3, 3), kernel_initializer='he_normal', padding='same')(c2)\n",
        "c2 = tf.keras.layers.BatchNormalization()(c2)\n",
        "c2 = tf.keras.layers.ReLU()(c2)\n",
        "p2 = tf.keras.layers.MaxPooling2D((2, 2))(c2)\n",
        "\n",
        "c3 = tf.keras.layers.Conv2D(64, (3, 3), kernel_initializer='he_normal', padding='same')(p2)\n",
        "c3 = tf.keras.layers.BatchNormalization()(c3)\n",
        "c3 = tf.keras.layers.ReLU()(c3)\n",
        "c3 = tf.keras.layers.Conv2D(128, (3, 3), kernel_initializer='he_normal', padding='same')(c3)\n",
        "c3 = tf.keras.layers.BatchNormalization()(c3)\n",
        "c3 = tf.keras.layers.ReLU()(c3)\n",
        "c3 = tf.keras.layers.Dropout(0.2)(c3)\n",
        "c3 = tf.keras.layers.Conv2D(64, (3, 3), kernel_initializer='he_normal', padding='same')(c3)\n",
        "c3 = tf.keras.layers.BatchNormalization()(c3)\n",
        "c3 = tf.keras.layers.ReLU()(c3)\n",
        "p3 = tf.keras.layers.MaxPooling2D((2, 2))(c3)\n",
        "\n",
        "c4 = tf.keras.layers.Conv2D(128, (3, 3), kernel_initializer='he_normal', padding='same')(p3)\n",
        "c4 = tf.keras.layers.BatchNormalization()(c4)\n",
        "c4 = tf.keras.layers.ReLU()(c4)\n",
        "c4 = tf.keras.layers.Conv2D(256, (3, 3), kernel_initializer='he_normal', padding='same')(c4)\n",
        "c4 = tf.keras.layers.BatchNormalization()(c4)\n",
        "c4 = tf.keras.layers.ReLU()(c4)\n",
        "c4 = tf.keras.layers.Dropout(0.2)(c4)\n",
        "c4 = tf.keras.layers.Conv2D(128, (3, 3), kernel_initializer='he_normal', padding='same')(c4)\n",
        "c4 = tf.keras.layers.BatchNormalization()(c4)\n",
        "c4 = tf.keras.layers.ReLU()(c4)\n",
        "p4 = tf.keras.layers.MaxPooling2D(pool_size=(2, 2))(c4)\n",
        "\n",
        "c5 = tf.keras.layers.Conv2D(256, (3, 3), kernel_initializer='he_normal', padding='same')(p4)\n",
        "c5 = tf.keras.layers.BatchNormalization()(c5)\n",
        "c5 = tf.keras.layers.ReLU()(c5)\n",
        "c5 = tf.keras.layers.Conv2D(512, (3, 3), kernel_initializer='he_normal', padding='same')(c5)\n",
        "c5 = tf.keras.layers.BatchNormalization()(c5)\n",
        "c5 = tf.keras.layers.ReLU()(c5)\n",
        "c5 = tf.keras.layers.Dropout(0.3)(c5)\n",
        "c5 = tf.keras.layers.Conv2D(256, (3, 3), kernel_initializer='he_normal', padding='same')(c5)\n",
        "c5 = tf.keras.layers.BatchNormalization()(c5)\n",
        "c5 = tf.keras.layers.ReLU()(c5)\n",
        "\n",
        "#Expansive path \n",
        "u6 = tf.keras.layers.Conv2DTranspose(128, (2, 2), strides=(2, 2), padding='same')(c5)\n",
        "u6 = tf.keras.layers.concatenate([u6, c4])\n",
        "c6 = tf.keras.layers.Conv2D(128, (3, 3), kernel_initializer='he_normal', padding='same')(u6)\n",
        "c6 = tf.keras.layers.BatchNormalization()(c6)\n",
        "c6 = tf.keras.layers.ReLU()(c6)\n",
        "c6 = tf.keras.layers.Conv2D(256, (3, 3), kernel_initializer='he_normal', padding='same')(c6)\n",
        "c6 = tf.keras.layers.BatchNormalization()(c6)\n",
        "c6 = tf.keras.layers.ReLU()(c6)\n",
        "c6 = tf.keras.layers.Dropout(0.2)(c6)\n",
        "c6 = tf.keras.layers.Conv2D(128, (3, 3), kernel_initializer='he_normal', padding='same')(c6)\n",
        "c6 = tf.keras.layers.BatchNormalization()(c6)\n",
        "c6 = tf.keras.layers.ReLU()(c6)\n",
        " \n",
        "u7 = tf.keras.layers.Conv2DTranspose(64, (2, 2), strides=(2, 2), padding='same')(c6)\n",
        "u7 = tf.keras.layers.concatenate([u7, c3])\n",
        "c7 = tf.keras.layers.Conv2D(64, (3, 3), kernel_initializer='he_normal', padding='same')(u7)\n",
        "c7 = tf.keras.layers.BatchNormalization()(c7)\n",
        "c7 = tf.keras.layers.ReLU()(c7)\n",
        "c7 = tf.keras.layers.Conv2D(128, (3, 3), kernel_initializer='he_normal', padding='same')(c7)\n",
        "c7 = tf.keras.layers.BatchNormalization()(c7)\n",
        "c7 = tf.keras.layers.ReLU()(c7)\n",
        "c7 = tf.keras.layers.Dropout(0.2)(c7)\n",
        "c7 = tf.keras.layers.Conv2D(64, (3, 3), kernel_initializer='he_normal', padding='same')(c7)\n",
        "c7 = tf.keras.layers.BatchNormalization()(c7)\n",
        "c7 = tf.keras.layers.ReLU()(c7)\n",
        " \n",
        "u8 = tf.keras.layers.Conv2DTranspose(32, (2, 2), strides=(2, 2), padding='same')(c7)\n",
        "u8 = tf.keras.layers.concatenate([u8, c2])\n",
        "c8 = tf.keras.layers.Conv2D(32, (3, 3), kernel_initializer='he_normal', padding='same')(u8)\n",
        "c8 = tf.keras.layers.BatchNormalization()(c8)\n",
        "c8 = tf.keras.layers.ReLU()(c8)\n",
        "c8 = tf.keras.layers.Conv2D(32, (3, 3), kernel_initializer='he_normal', padding='same')(c8)\n",
        "c8 = tf.keras.layers.BatchNormalization()(c8)\n",
        "c8 = tf.keras.layers.ReLU()(c8)\n",
        "c8 = tf.keras.layers.Dropout(0.1)(c8)\n",
        "c8 = tf.keras.layers.Conv2D(32, (3, 3), kernel_initializer='he_normal', padding='same')(c8)\n",
        "c8 = tf.keras.layers.BatchNormalization()(c8)\n",
        "c8 = tf.keras.layers.ReLU()(c8)\n",
        " \n",
        "u9 = tf.keras.layers.Conv2DTranspose(16, (2, 2), strides=(2, 2), padding='same')(c8)\n",
        "u9 = tf.keras.layers.concatenate([u9, c1], axis=3)\n",
        "c9 = tf.keras.layers.Conv2D(16, (3, 3), kernel_initializer='he_normal', padding='same')(u9)\n",
        "c9 = tf.keras.layers.BatchNormalization()(c9)\n",
        "c9 = tf.keras.layers.ReLU()(c9)\n",
        "c9 = tf.keras.layers.Conv2D(32, (3, 3), kernel_initializer='he_normal', padding='same')(c9)\n",
        "c9 = tf.keras.layers.BatchNormalization()(c9)\n",
        "c9 = tf.keras.layers.ReLU()(c9)\n",
        "c9 = tf.keras.layers.Dropout(0.1)(c9)\n",
        "c9 = tf.keras.layers.Conv2D(16, (3, 3), kernel_initializer='he_normal', padding='same')(c9)\n",
        "c9 = tf.keras.layers.BatchNormalization()(c9)\n",
        "c9 = tf.keras.layers.ReLU()(c9)\n",
        " \n",
        "outputs = tf.keras.layers.Conv2D(1, (1, 1), activation='sigmoid')(c9)\n",
        " \n",
        "model = tf.keras.Model(inputs=[inputs], outputs=[outputs])\n",
        "model.compile(optimizer='adam', loss='binary_crossentropy', metrics=['accuracy'])\n",
        "model.summary()\n"
      ],
      "execution_count": null,
      "outputs": [
        {
          "output_type": "stream",
          "name": "stdout",
          "text": [
            "Model: \"model\"\n",
            "__________________________________________________________________________________________________\n",
            "Layer (type)                    Output Shape         Param #     Connected to                     \n",
            "==================================================================================================\n",
            "input_1 (InputLayer)            [(None, 320, 320, 3) 0                                            \n",
            "__________________________________________________________________________________________________\n",
            "lambda (Lambda)                 (None, 320, 320, 3)  0           input_1[0][0]                    \n",
            "__________________________________________________________________________________________________\n",
            "conv2d (Conv2D)                 (None, 320, 320, 16) 448         lambda[0][0]                     \n",
            "__________________________________________________________________________________________________\n",
            "batch_normalization (BatchNorma (None, 320, 320, 16) 64          conv2d[0][0]                     \n",
            "__________________________________________________________________________________________________\n",
            "re_lu (ReLU)                    (None, 320, 320, 16) 0           batch_normalization[0][0]        \n",
            "__________________________________________________________________________________________________\n",
            "conv2d_1 (Conv2D)               (None, 320, 320, 32) 4640        re_lu[0][0]                      \n",
            "__________________________________________________________________________________________________\n",
            "batch_normalization_1 (BatchNor (None, 320, 320, 32) 128         conv2d_1[0][0]                   \n",
            "__________________________________________________________________________________________________\n",
            "re_lu_1 (ReLU)                  (None, 320, 320, 32) 0           batch_normalization_1[0][0]      \n",
            "__________________________________________________________________________________________________\n",
            "dropout (Dropout)               (None, 320, 320, 32) 0           re_lu_1[0][0]                    \n",
            "__________________________________________________________________________________________________\n",
            "conv2d_2 (Conv2D)               (None, 320, 320, 16) 4624        dropout[0][0]                    \n",
            "__________________________________________________________________________________________________\n",
            "batch_normalization_2 (BatchNor (None, 320, 320, 16) 64          conv2d_2[0][0]                   \n",
            "__________________________________________________________________________________________________\n",
            "re_lu_2 (ReLU)                  (None, 320, 320, 16) 0           batch_normalization_2[0][0]      \n",
            "__________________________________________________________________________________________________\n",
            "max_pooling2d (MaxPooling2D)    (None, 160, 160, 16) 0           re_lu_2[0][0]                    \n",
            "__________________________________________________________________________________________________\n",
            "conv2d_3 (Conv2D)               (None, 160, 160, 32) 4640        max_pooling2d[0][0]              \n",
            "__________________________________________________________________________________________________\n",
            "batch_normalization_3 (BatchNor (None, 160, 160, 32) 128         conv2d_3[0][0]                   \n",
            "__________________________________________________________________________________________________\n",
            "re_lu_3 (ReLU)                  (None, 160, 160, 32) 0           batch_normalization_3[0][0]      \n",
            "__________________________________________________________________________________________________\n",
            "conv2d_4 (Conv2D)               (None, 160, 160, 64) 18496       re_lu_3[0][0]                    \n",
            "__________________________________________________________________________________________________\n",
            "batch_normalization_4 (BatchNor (None, 160, 160, 64) 256         conv2d_4[0][0]                   \n",
            "__________________________________________________________________________________________________\n",
            "re_lu_4 (ReLU)                  (None, 160, 160, 64) 0           batch_normalization_4[0][0]      \n",
            "__________________________________________________________________________________________________\n",
            "dropout_1 (Dropout)             (None, 160, 160, 64) 0           re_lu_4[0][0]                    \n",
            "__________________________________________________________________________________________________\n",
            "conv2d_5 (Conv2D)               (None, 160, 160, 32) 18464       dropout_1[0][0]                  \n",
            "__________________________________________________________________________________________________\n",
            "batch_normalization_5 (BatchNor (None, 160, 160, 32) 128         conv2d_5[0][0]                   \n",
            "__________________________________________________________________________________________________\n",
            "re_lu_5 (ReLU)                  (None, 160, 160, 32) 0           batch_normalization_5[0][0]      \n",
            "__________________________________________________________________________________________________\n",
            "max_pooling2d_1 (MaxPooling2D)  (None, 80, 80, 32)   0           re_lu_5[0][0]                    \n",
            "__________________________________________________________________________________________________\n",
            "conv2d_6 (Conv2D)               (None, 80, 80, 64)   18496       max_pooling2d_1[0][0]            \n",
            "__________________________________________________________________________________________________\n",
            "batch_normalization_6 (BatchNor (None, 80, 80, 64)   256         conv2d_6[0][0]                   \n",
            "__________________________________________________________________________________________________\n",
            "re_lu_6 (ReLU)                  (None, 80, 80, 64)   0           batch_normalization_6[0][0]      \n",
            "__________________________________________________________________________________________________\n",
            "conv2d_7 (Conv2D)               (None, 80, 80, 128)  73856       re_lu_6[0][0]                    \n",
            "__________________________________________________________________________________________________\n",
            "batch_normalization_7 (BatchNor (None, 80, 80, 128)  512         conv2d_7[0][0]                   \n",
            "__________________________________________________________________________________________________\n",
            "re_lu_7 (ReLU)                  (None, 80, 80, 128)  0           batch_normalization_7[0][0]      \n",
            "__________________________________________________________________________________________________\n",
            "dropout_2 (Dropout)             (None, 80, 80, 128)  0           re_lu_7[0][0]                    \n",
            "__________________________________________________________________________________________________\n",
            "conv2d_8 (Conv2D)               (None, 80, 80, 64)   73792       dropout_2[0][0]                  \n",
            "__________________________________________________________________________________________________\n",
            "batch_normalization_8 (BatchNor (None, 80, 80, 64)   256         conv2d_8[0][0]                   \n",
            "__________________________________________________________________________________________________\n",
            "re_lu_8 (ReLU)                  (None, 80, 80, 64)   0           batch_normalization_8[0][0]      \n",
            "__________________________________________________________________________________________________\n",
            "max_pooling2d_2 (MaxPooling2D)  (None, 40, 40, 64)   0           re_lu_8[0][0]                    \n",
            "__________________________________________________________________________________________________\n",
            "conv2d_9 (Conv2D)               (None, 40, 40, 128)  73856       max_pooling2d_2[0][0]            \n",
            "__________________________________________________________________________________________________\n",
            "batch_normalization_9 (BatchNor (None, 40, 40, 128)  512         conv2d_9[0][0]                   \n",
            "__________________________________________________________________________________________________\n",
            "re_lu_9 (ReLU)                  (None, 40, 40, 128)  0           batch_normalization_9[0][0]      \n",
            "__________________________________________________________________________________________________\n",
            "conv2d_10 (Conv2D)              (None, 40, 40, 256)  295168      re_lu_9[0][0]                    \n",
            "__________________________________________________________________________________________________\n",
            "batch_normalization_10 (BatchNo (None, 40, 40, 256)  1024        conv2d_10[0][0]                  \n",
            "__________________________________________________________________________________________________\n",
            "re_lu_10 (ReLU)                 (None, 40, 40, 256)  0           batch_normalization_10[0][0]     \n",
            "__________________________________________________________________________________________________\n",
            "dropout_3 (Dropout)             (None, 40, 40, 256)  0           re_lu_10[0][0]                   \n",
            "__________________________________________________________________________________________________\n",
            "conv2d_11 (Conv2D)              (None, 40, 40, 128)  295040      dropout_3[0][0]                  \n",
            "__________________________________________________________________________________________________\n",
            "batch_normalization_11 (BatchNo (None, 40, 40, 128)  512         conv2d_11[0][0]                  \n",
            "__________________________________________________________________________________________________\n",
            "re_lu_11 (ReLU)                 (None, 40, 40, 128)  0           batch_normalization_11[0][0]     \n",
            "__________________________________________________________________________________________________\n",
            "max_pooling2d_3 (MaxPooling2D)  (None, 20, 20, 128)  0           re_lu_11[0][0]                   \n",
            "__________________________________________________________________________________________________\n",
            "conv2d_12 (Conv2D)              (None, 20, 20, 256)  295168      max_pooling2d_3[0][0]            \n",
            "__________________________________________________________________________________________________\n",
            "batch_normalization_12 (BatchNo (None, 20, 20, 256)  1024        conv2d_12[0][0]                  \n",
            "__________________________________________________________________________________________________\n",
            "re_lu_12 (ReLU)                 (None, 20, 20, 256)  0           batch_normalization_12[0][0]     \n",
            "__________________________________________________________________________________________________\n",
            "conv2d_13 (Conv2D)              (None, 20, 20, 512)  1180160     re_lu_12[0][0]                   \n",
            "__________________________________________________________________________________________________\n",
            "batch_normalization_13 (BatchNo (None, 20, 20, 512)  2048        conv2d_13[0][0]                  \n",
            "__________________________________________________________________________________________________\n",
            "re_lu_13 (ReLU)                 (None, 20, 20, 512)  0           batch_normalization_13[0][0]     \n",
            "__________________________________________________________________________________________________\n",
            "dropout_4 (Dropout)             (None, 20, 20, 512)  0           re_lu_13[0][0]                   \n",
            "__________________________________________________________________________________________________\n",
            "conv2d_14 (Conv2D)              (None, 20, 20, 256)  1179904     dropout_4[0][0]                  \n",
            "__________________________________________________________________________________________________\n",
            "batch_normalization_14 (BatchNo (None, 20, 20, 256)  1024        conv2d_14[0][0]                  \n",
            "__________________________________________________________________________________________________\n",
            "re_lu_14 (ReLU)                 (None, 20, 20, 256)  0           batch_normalization_14[0][0]     \n",
            "__________________________________________________________________________________________________\n",
            "conv2d_transpose (Conv2DTranspo (None, 40, 40, 128)  131200      re_lu_14[0][0]                   \n",
            "__________________________________________________________________________________________________\n",
            "concatenate (Concatenate)       (None, 40, 40, 256)  0           conv2d_transpose[0][0]           \n",
            "                                                                 re_lu_11[0][0]                   \n",
            "__________________________________________________________________________________________________\n",
            "conv2d_15 (Conv2D)              (None, 40, 40, 128)  295040      concatenate[0][0]                \n",
            "__________________________________________________________________________________________________\n",
            "batch_normalization_15 (BatchNo (None, 40, 40, 128)  512         conv2d_15[0][0]                  \n",
            "__________________________________________________________________________________________________\n",
            "re_lu_15 (ReLU)                 (None, 40, 40, 128)  0           batch_normalization_15[0][0]     \n",
            "__________________________________________________________________________________________________\n",
            "conv2d_16 (Conv2D)              (None, 40, 40, 256)  295168      re_lu_15[0][0]                   \n",
            "__________________________________________________________________________________________________\n",
            "batch_normalization_16 (BatchNo (None, 40, 40, 256)  1024        conv2d_16[0][0]                  \n",
            "__________________________________________________________________________________________________\n",
            "re_lu_16 (ReLU)                 (None, 40, 40, 256)  0           batch_normalization_16[0][0]     \n",
            "__________________________________________________________________________________________________\n",
            "dropout_5 (Dropout)             (None, 40, 40, 256)  0           re_lu_16[0][0]                   \n",
            "__________________________________________________________________________________________________\n",
            "conv2d_17 (Conv2D)              (None, 40, 40, 128)  295040      dropout_5[0][0]                  \n",
            "__________________________________________________________________________________________________\n",
            "batch_normalization_17 (BatchNo (None, 40, 40, 128)  512         conv2d_17[0][0]                  \n",
            "__________________________________________________________________________________________________\n",
            "re_lu_17 (ReLU)                 (None, 40, 40, 128)  0           batch_normalization_17[0][0]     \n",
            "__________________________________________________________________________________________________\n",
            "conv2d_transpose_1 (Conv2DTrans (None, 80, 80, 64)   32832       re_lu_17[0][0]                   \n",
            "__________________________________________________________________________________________________\n",
            "concatenate_1 (Concatenate)     (None, 80, 80, 128)  0           conv2d_transpose_1[0][0]         \n",
            "                                                                 re_lu_8[0][0]                    \n",
            "__________________________________________________________________________________________________\n",
            "conv2d_18 (Conv2D)              (None, 80, 80, 64)   73792       concatenate_1[0][0]              \n",
            "__________________________________________________________________________________________________\n",
            "batch_normalization_18 (BatchNo (None, 80, 80, 64)   256         conv2d_18[0][0]                  \n",
            "__________________________________________________________________________________________________\n",
            "re_lu_18 (ReLU)                 (None, 80, 80, 64)   0           batch_normalization_18[0][0]     \n",
            "__________________________________________________________________________________________________\n",
            "conv2d_19 (Conv2D)              (None, 80, 80, 128)  73856       re_lu_18[0][0]                   \n",
            "__________________________________________________________________________________________________\n",
            "batch_normalization_19 (BatchNo (None, 80, 80, 128)  512         conv2d_19[0][0]                  \n",
            "__________________________________________________________________________________________________\n",
            "re_lu_19 (ReLU)                 (None, 80, 80, 128)  0           batch_normalization_19[0][0]     \n",
            "__________________________________________________________________________________________________\n",
            "dropout_6 (Dropout)             (None, 80, 80, 128)  0           re_lu_19[0][0]                   \n",
            "__________________________________________________________________________________________________\n",
            "conv2d_20 (Conv2D)              (None, 80, 80, 64)   73792       dropout_6[0][0]                  \n",
            "__________________________________________________________________________________________________\n",
            "batch_normalization_20 (BatchNo (None, 80, 80, 64)   256         conv2d_20[0][0]                  \n",
            "__________________________________________________________________________________________________\n",
            "re_lu_20 (ReLU)                 (None, 80, 80, 64)   0           batch_normalization_20[0][0]     \n",
            "__________________________________________________________________________________________________\n",
            "conv2d_transpose_2 (Conv2DTrans (None, 160, 160, 32) 8224        re_lu_20[0][0]                   \n",
            "__________________________________________________________________________________________________\n",
            "concatenate_2 (Concatenate)     (None, 160, 160, 64) 0           conv2d_transpose_2[0][0]         \n",
            "                                                                 re_lu_5[0][0]                    \n",
            "__________________________________________________________________________________________________\n",
            "conv2d_21 (Conv2D)              (None, 160, 160, 32) 18464       concatenate_2[0][0]              \n",
            "__________________________________________________________________________________________________\n",
            "batch_normalization_21 (BatchNo (None, 160, 160, 32) 128         conv2d_21[0][0]                  \n",
            "__________________________________________________________________________________________________\n",
            "re_lu_21 (ReLU)                 (None, 160, 160, 32) 0           batch_normalization_21[0][0]     \n",
            "__________________________________________________________________________________________________\n",
            "conv2d_22 (Conv2D)              (None, 160, 160, 32) 9248        re_lu_21[0][0]                   \n",
            "__________________________________________________________________________________________________\n",
            "batch_normalization_22 (BatchNo (None, 160, 160, 32) 128         conv2d_22[0][0]                  \n",
            "__________________________________________________________________________________________________\n",
            "re_lu_22 (ReLU)                 (None, 160, 160, 32) 0           batch_normalization_22[0][0]     \n",
            "__________________________________________________________________________________________________\n",
            "dropout_7 (Dropout)             (None, 160, 160, 32) 0           re_lu_22[0][0]                   \n",
            "__________________________________________________________________________________________________\n",
            "conv2d_23 (Conv2D)              (None, 160, 160, 32) 9248        dropout_7[0][0]                  \n",
            "__________________________________________________________________________________________________\n",
            "batch_normalization_23 (BatchNo (None, 160, 160, 32) 128         conv2d_23[0][0]                  \n",
            "__________________________________________________________________________________________________\n",
            "re_lu_23 (ReLU)                 (None, 160, 160, 32) 0           batch_normalization_23[0][0]     \n",
            "__________________________________________________________________________________________________\n",
            "conv2d_transpose_3 (Conv2DTrans (None, 320, 320, 16) 2064        re_lu_23[0][0]                   \n",
            "__________________________________________________________________________________________________\n",
            "concatenate_3 (Concatenate)     (None, 320, 320, 32) 0           conv2d_transpose_3[0][0]         \n",
            "                                                                 re_lu_2[0][0]                    \n",
            "__________________________________________________________________________________________________\n",
            "conv2d_24 (Conv2D)              (None, 320, 320, 16) 4624        concatenate_3[0][0]              \n",
            "__________________________________________________________________________________________________\n",
            "batch_normalization_24 (BatchNo (None, 320, 320, 16) 64          conv2d_24[0][0]                  \n",
            "__________________________________________________________________________________________________\n",
            "re_lu_24 (ReLU)                 (None, 320, 320, 16) 0           batch_normalization_24[0][0]     \n",
            "__________________________________________________________________________________________________\n",
            "conv2d_25 (Conv2D)              (None, 320, 320, 32) 4640        re_lu_24[0][0]                   \n",
            "__________________________________________________________________________________________________\n",
            "batch_normalization_25 (BatchNo (None, 320, 320, 32) 128         conv2d_25[0][0]                  \n",
            "__________________________________________________________________________________________________\n",
            "re_lu_25 (ReLU)                 (None, 320, 320, 32) 0           batch_normalization_25[0][0]     \n",
            "__________________________________________________________________________________________________\n",
            "dropout_8 (Dropout)             (None, 320, 320, 32) 0           re_lu_25[0][0]                   \n",
            "__________________________________________________________________________________________________\n",
            "conv2d_26 (Conv2D)              (None, 320, 320, 16) 4624        dropout_8[0][0]                  \n",
            "__________________________________________________________________________________________________\n",
            "batch_normalization_26 (BatchNo (None, 320, 320, 16) 64          conv2d_26[0][0]                  \n",
            "__________________________________________________________________________________________________\n",
            "re_lu_26 (ReLU)                 (None, 320, 320, 16) 0           batch_normalization_26[0][0]     \n",
            "__________________________________________________________________________________________________\n",
            "conv2d_27 (Conv2D)              (None, 320, 320, 1)  17          re_lu_26[0][0]                   \n",
            "==================================================================================================\n",
            "Total params: 4,880,273\n",
            "Trainable params: 4,874,449\n",
            "Non-trainable params: 5,824\n",
            "__________________________________________________________________________________________________\n"
          ]
        }
      ]
    },
    {
      "cell_type": "code",
      "metadata": {
        "id": "moVBSnPuNtTU"
      },
      "source": [
        ""
      ],
      "execution_count": null,
      "outputs": []
    },
    {
      "cell_type": "code",
      "metadata": {
        "id": "xvymKUPRNtwe"
      },
      "source": [
        "def UNETmod():\n",
        "  #Build the model\n",
        "  inputs = tf.keras.layers.Input((IMG_HEIGHT, IMG_WIDTH, IMG_CHANNELS))\n",
        "  s = tf.keras.layers.Lambda(lambda x: x / 255)(inputs)\n",
        "\n",
        "  #Contraction path\n",
        "\n",
        "  c1 = tf.keras.layers.Conv2D(16, (3, 3), kernel_initializer='he_normal', padding='same')(s)\n",
        "  c1 = tf.keras.layers.BatchNormalization()(c1)\n",
        "  c1 = tf.keras.layers.ReLU()(c1)\n",
        "  c1 = tf.keras.layers.Conv2D(32, (3, 3), kernel_initializer='he_normal', padding='same')(c1)\n",
        "  c1 = tf.keras.layers.BatchNormalization()(c1)\n",
        "  c1 = tf.keras.layers.ReLU()(c1)\n",
        "  c1 = tf.keras.layers.Dropout(0.1)(c1)\n",
        "  c1 = tf.keras.layers.Conv2D(16, (3, 3), kernel_initializer='he_normal', padding='same')(c1)\n",
        "  c1 = tf.keras.layers.BatchNormalization()(c1)\n",
        "  c1 = tf.keras.layers.ReLU()(c1)\n",
        "  p1 = tf.keras.layers.MaxPooling2D((2, 2))(c1)\n",
        "\n",
        "  c2 = tf.keras.layers.Conv2D(32, (3, 3), kernel_initializer='he_normal', padding='same')(p1)\n",
        "  c2 = tf.keras.layers.BatchNormalization()(c2)\n",
        "  c2 = tf.keras.layers.ReLU()(c2)\n",
        "  c2 = tf.keras.layers.Conv2D(64, (3, 3), kernel_initializer='he_normal', padding='same')(c2)\n",
        "  c2 = tf.keras.layers.BatchNormalization()(c2)\n",
        "  c2 = tf.keras.layers.ReLU()(c2)\n",
        "  c2 = tf.keras.layers.Dropout(0.1)(c2)\n",
        "  c2 = tf.keras.layers.Conv2D(32, (3, 3), kernel_initializer='he_normal', padding='same')(c2)\n",
        "  c2 = tf.keras.layers.BatchNormalization()(c2)\n",
        "  c2 = tf.keras.layers.ReLU()(c2)\n",
        "  p2 = tf.keras.layers.MaxPooling2D((2, 2))(c2)\n",
        "\n",
        "  c3 = tf.keras.layers.Conv2D(64, (3, 3), kernel_initializer='he_normal', padding='same')(p2)\n",
        "  c3 = tf.keras.layers.BatchNormalization()(c3)\n",
        "  c3 = tf.keras.layers.ReLU()(c3)\n",
        "  c3 = tf.keras.layers.Conv2D(128, (3, 3), kernel_initializer='he_normal', padding='same')(c3)\n",
        "  c3 = tf.keras.layers.BatchNormalization()(c3)\n",
        "  c3 = tf.keras.layers.ReLU()(c3)\n",
        "  c3 = tf.keras.layers.Dropout(0.2)(c3)\n",
        "  c3 = tf.keras.layers.Conv2D(64, (3, 3), kernel_initializer='he_normal', padding='same')(c3)\n",
        "  c3 = tf.keras.layers.BatchNormalization()(c3)\n",
        "  c3 = tf.keras.layers.ReLU()(c3)\n",
        "  p3 = tf.keras.layers.MaxPooling2D((2, 2))(c3)\n",
        "\n",
        "  c4 = tf.keras.layers.Conv2D(128, (3, 3), kernel_initializer='he_normal', padding='same')(p3)\n",
        "  c4 = tf.keras.layers.BatchNormalization()(c4)\n",
        "  c4 = tf.keras.layers.ReLU()(c4)\n",
        "  c4 = tf.keras.layers.Conv2D(256, (3, 3), kernel_initializer='he_normal', padding='same')(c4)\n",
        "  c4 = tf.keras.layers.BatchNormalization()(c4)\n",
        "  c4 = tf.keras.layers.ReLU()(c4)\n",
        "  c4 = tf.keras.layers.Dropout(0.2)(c4)\n",
        "  c4 = tf.keras.layers.Conv2D(128, (3, 3), kernel_initializer='he_normal', padding='same')(c4)\n",
        "  c4 = tf.keras.layers.BatchNormalization()(c4)\n",
        "  c4 = tf.keras.layers.ReLU()(c4)\n",
        "  p4 = tf.keras.layers.MaxPooling2D(pool_size=(2, 2))(c4)\n",
        "\n",
        "  c5 = tf.keras.layers.Conv2D(256, (3, 3), kernel_initializer='he_normal', padding='same')(p4)\n",
        "  c5 = tf.keras.layers.BatchNormalization()(c5)\n",
        "  c5 = tf.keras.layers.ReLU()(c5)\n",
        "  c5 = tf.keras.layers.Conv2D(512, (3, 3), kernel_initializer='he_normal', padding='same')(c5)\n",
        "  c5 = tf.keras.layers.BatchNormalization()(c5)\n",
        "  c5 = tf.keras.layers.ReLU()(c5)\n",
        "  c5 = tf.keras.layers.Dropout(0.3)(c5)\n",
        "  c5 = tf.keras.layers.Conv2D(256, (3, 3), kernel_initializer='he_normal', padding='same')(c5)\n",
        "  c5 = tf.keras.layers.BatchNormalization()(c5)\n",
        "  c5 = tf.keras.layers.ReLU()(c5)\n",
        "\n",
        "  #Expansive path \n",
        "  u6 = tf.keras.layers.Conv2DTranspose(128, (2, 2), strides=(2, 2), padding='same')(c5)\n",
        "  u6 = tf.keras.layers.concatenate([u6, c4])\n",
        "  c6 = tf.keras.layers.Conv2D(128, (3, 3), kernel_initializer='he_normal', padding='same')(u6)\n",
        "  c6 = tf.keras.layers.BatchNormalization()(c6)\n",
        "  c6 = tf.keras.layers.ReLU()(c6)\n",
        "  c6 = tf.keras.layers.Conv2D(256, (3, 3), kernel_initializer='he_normal', padding='same')(c6)\n",
        "  c6 = tf.keras.layers.BatchNormalization()(c6)\n",
        "  c6 = tf.keras.layers.ReLU()(c6)\n",
        "  c6 = tf.keras.layers.Dropout(0.2)(c6)\n",
        "  c6 = tf.keras.layers.Conv2D(128, (3, 3), kernel_initializer='he_normal', padding='same')(c6)\n",
        "  c6 = tf.keras.layers.BatchNormalization()(c6)\n",
        "  c6 = tf.keras.layers.ReLU()(c6)\n",
        "  \n",
        "  u7 = tf.keras.layers.Conv2DTranspose(64, (2, 2), strides=(2, 2), padding='same')(c6)\n",
        "  u7 = tf.keras.layers.concatenate([u7, c3])\n",
        "  c7 = tf.keras.layers.Conv2D(64, (3, 3), kernel_initializer='he_normal', padding='same')(u7)\n",
        "  c7 = tf.keras.layers.BatchNormalization()(c7)\n",
        "  c7 = tf.keras.layers.ReLU()(c7)\n",
        "  c7 = tf.keras.layers.Conv2D(128, (3, 3), kernel_initializer='he_normal', padding='same')(c7)\n",
        "  c7 = tf.keras.layers.BatchNormalization()(c7)\n",
        "  c7 = tf.keras.layers.ReLU()(c7)\n",
        "  c7 = tf.keras.layers.Dropout(0.2)(c7)\n",
        "  c7 = tf.keras.layers.Conv2D(64, (3, 3), kernel_initializer='he_normal', padding='same')(c7)\n",
        "  c7 = tf.keras.layers.BatchNormalization()(c7)\n",
        "  c7 = tf.keras.layers.ReLU()(c7)\n",
        "  \n",
        "  u8 = tf.keras.layers.Conv2DTranspose(32, (2, 2), strides=(2, 2), padding='same')(c7)\n",
        "  u8 = tf.keras.layers.concatenate([u8, c2])\n",
        "  c8 = tf.keras.layers.Conv2D(32, (3, 3), kernel_initializer='he_normal', padding='same')(u8)\n",
        "  c8 = tf.keras.layers.BatchNormalization()(c8)\n",
        "  c8 = tf.keras.layers.ReLU()(c8)\n",
        "  c8 = tf.keras.layers.Conv2D(32, (3, 3), kernel_initializer='he_normal', padding='same')(c8)\n",
        "  c8 = tf.keras.layers.BatchNormalization()(c8)\n",
        "  c8 = tf.keras.layers.ReLU()(c8)\n",
        "  c8 = tf.keras.layers.Dropout(0.1)(c8)\n",
        "  c8 = tf.keras.layers.Conv2D(32, (3, 3), kernel_initializer='he_normal', padding='same')(c8)\n",
        "  c8 = tf.keras.layers.BatchNormalization()(c8)\n",
        "  c8 = tf.keras.layers.ReLU()(c8)\n",
        "  \n",
        "  u9 = tf.keras.layers.Conv2DTranspose(16, (2, 2), strides=(2, 2), padding='same')(c8)\n",
        "  u9 = tf.keras.layers.concatenate([u9, c1], axis=3)\n",
        "  c9 = tf.keras.layers.Conv2D(16, (3, 3), kernel_initializer='he_normal', padding='same')(u9)\n",
        "  c9 = tf.keras.layers.BatchNormalization()(c9)\n",
        "  c9 = tf.keras.layers.ReLU()(c9)\n",
        "  c9 = tf.keras.layers.Conv2D(32, (3, 3), kernel_initializer='he_normal', padding='same')(c9)\n",
        "  c9 = tf.keras.layers.BatchNormalization()(c9)\n",
        "  c9 = tf.keras.layers.ReLU()(c9)\n",
        "  c9 = tf.keras.layers.Dropout(0.1)(c9)\n",
        "  c9 = tf.keras.layers.Conv2D(16, (3, 3), kernel_initializer='he_normal', padding='same')(c9)\n",
        "  c9 = tf.keras.layers.BatchNormalization()(c9)\n",
        "  c9 = tf.keras.layers.ReLU()(c9)\n",
        "  \n",
        "  outputs = tf.keras.layers.Conv2D(1, (1, 1), activation='sigmoid')(c9)\n",
        "  \n",
        "  model = tf.keras.Model(inputs=[inputs], outputs=[outputs])\n",
        "  model.compile(optimizer='adam', loss='binary_crossentropy', metrics=['accuracy'])\n",
        "  return model\n"
      ],
      "execution_count": null,
      "outputs": []
    },
    {
      "cell_type": "code",
      "metadata": {
        "id": "1Fkh3IadGc0G"
      },
      "source": [
        "model=UNETmod()"
      ],
      "execution_count": null,
      "outputs": []
    },
    {
      "cell_type": "code",
      "metadata": {
        "id": "cOeaulGXieML"
      },
      "source": [
        "#Model Checkpoint\n",
        "checkpoint_path_recog = \"/content/drive/MyDrive/OUHANDS/unet/checkp.ckpt\"\n",
        "model_checkpoint_recog = tf.keras.callbacks.ModelCheckpoint(filepath=checkpoint_path_recog,\n",
        "                                                 save_weights_only=True,\n",
        "                                                  monitor='val_accuracy',save_best_only=True,\n",
        "                                                 verbose=1)"
      ],
      "execution_count": null,
      "outputs": []
    },
    {
      "cell_type": "code",
      "metadata": {
        "colab": {
          "base_uri": "https://localhost:8080/"
        },
        "id": "gygsd_sjczK3",
        "outputId": "ff66068d-0ea3-4a16-8b11-53c0459685d4"
      },
      "source": [
        "OUTPUT = model.fit(X_train,Y_train,validation_split = 0.1,batch_size=8,epochs=10,callbacks=[model_checkpoint_recog])"
      ],
      "execution_count": null,
      "outputs": [
        {
          "output_type": "stream",
          "name": "stdout",
          "text": [
            "Epoch 1/10\n",
            "225/225 [==============================] - 181s 654ms/step - loss: 0.1940 - accuracy: 0.9473 - val_loss: 0.4403 - val_accuracy: 0.8905\n",
            "\n",
            "Epoch 00001: val_accuracy improved from -inf to 0.89051, saving model to /content/drive/MyDrive/OUHANDS/unet/checkp.ckpt\n",
            "Epoch 2/10\n",
            "225/225 [==============================] - 146s 650ms/step - loss: 0.0740 - accuracy: 0.9761 - val_loss: 0.0758 - val_accuracy: 0.9714\n",
            "\n",
            "Epoch 00002: val_accuracy improved from 0.89051 to 0.97140, saving model to /content/drive/MyDrive/OUHANDS/unet/checkp.ckpt\n",
            "Epoch 3/10\n",
            "225/225 [==============================] - 146s 649ms/step - loss: 0.0556 - accuracy: 0.9788 - val_loss: 0.0638 - val_accuracy: 0.9748\n",
            "\n",
            "Epoch 00003: val_accuracy improved from 0.97140 to 0.97479, saving model to /content/drive/MyDrive/OUHANDS/unet/checkp.ckpt\n",
            "Epoch 4/10\n",
            "225/225 [==============================] - 146s 651ms/step - loss: 0.0435 - accuracy: 0.9820 - val_loss: 0.0474 - val_accuracy: 0.9797\n",
            "\n",
            "Epoch 00004: val_accuracy improved from 0.97479 to 0.97966, saving model to /content/drive/MyDrive/OUHANDS/unet/checkp.ckpt\n",
            "Epoch 5/10\n",
            "225/225 [==============================] - 146s 649ms/step - loss: 0.0398 - accuracy: 0.9827 - val_loss: 0.0392 - val_accuracy: 0.9830\n",
            "\n",
            "Epoch 00005: val_accuracy improved from 0.97966 to 0.98297, saving model to /content/drive/MyDrive/OUHANDS/unet/checkp.ckpt\n",
            "Epoch 6/10\n",
            "225/225 [==============================] - 146s 649ms/step - loss: 0.0361 - accuracy: 0.9838 - val_loss: 0.0405 - val_accuracy: 0.9822\n",
            "\n",
            "Epoch 00006: val_accuracy did not improve from 0.98297\n",
            "Epoch 7/10\n",
            "225/225 [==============================] - 145s 645ms/step - loss: 0.0362 - accuracy: 0.9836 - val_loss: 0.0468 - val_accuracy: 0.9807\n",
            "\n",
            "Epoch 00007: val_accuracy did not improve from 0.98297\n",
            "Epoch 8/10\n",
            "225/225 [==============================] - 146s 647ms/step - loss: 0.0344 - accuracy: 0.9842 - val_loss: 0.0655 - val_accuracy: 0.9739\n",
            "\n",
            "Epoch 00008: val_accuracy did not improve from 0.98297\n",
            "Epoch 9/10\n",
            "225/225 [==============================] - 145s 646ms/step - loss: 0.0348 - accuracy: 0.9839 - val_loss: 0.0424 - val_accuracy: 0.9822\n",
            "\n",
            "Epoch 00009: val_accuracy did not improve from 0.98297\n",
            "Epoch 10/10\n",
            "225/225 [==============================] - 146s 651ms/step - loss: 0.0314 - accuracy: 0.9851 - val_loss: 0.0322 - val_accuracy: 0.9845\n",
            "\n",
            "Epoch 00010: val_accuracy improved from 0.98297 to 0.98447, saving model to /content/drive/MyDrive/OUHANDS/unet/checkp.ckpt\n"
          ]
        }
      ]
    },
    {
      "cell_type": "code",
      "metadata": {
        "id": "uki9Uec69qD0",
        "colab": {
          "base_uri": "https://localhost:8080/"
        },
        "outputId": "3ede6b1b-5c44-4acc-a104-8cc1a1a98c39"
      },
      "source": [
        "pred_train=model.predict(X_train[:int(X_train.shape[0])],verbose=1)\n",
        "\n",
        "pred_train_t = (pred_train>0.5).astype(np.uint8)"
      ],
      "execution_count": null,
      "outputs": [
        {
          "output_type": "stream",
          "name": "stdout",
          "text": [
            "63/63 [==============================] - 45s 630ms/step\n"
          ]
        }
      ]
    },
    {
      "cell_type": "code",
      "metadata": {
        "id": "VEyAD-PQ-FUl"
      },
      "source": [
        "for i in range(pred_train_t.shape[0]):\n",
        "  name=\"seg\"+str(i)+\".jpg\"\n",
        "  img=np.reshape(pred_train_t[i],(IMG_HEIGHT,IMG_WIDTH))\n",
        "  img=255*img\n",
        "  cv2.imwrite(name,img)"
      ],
      "execution_count": null,
      "outputs": []
    },
    {
      "cell_type": "code",
      "metadata": {
        "id": "gAWEdUge-M-R"
      },
      "source": [
        "for i in range(pred_train_t.shape[0]):\n",
        "  name=\"mask\"+str(i)+\".jpg\"\n",
        "  img=np.reshape(Y_train[i],(IMG_HEIGHT,IMG_WIDTH))\n",
        "  img=255*img\n",
        "  cv2.imwrite(name,img)"
      ],
      "execution_count": null,
      "outputs": []
    },
    {
      "cell_type": "code",
      "metadata": {
        "id": "O-SXrQYjfE5y",
        "colab": {
          "base_uri": "https://localhost:8080/"
        },
        "outputId": "ef4ba6a9-d956-45e9-e8c8-4f08d5888643"
      },
      "source": [
        "!ls\n"
      ],
      "execution_count": null,
      "outputs": [
        {
          "output_type": "stream",
          "name": "stdout",
          "text": [
            "archive       mask15.jpg    mask400.jpg  seg1000.jpg  seg1602.jpg  seg403.jpg\n",
            "drive\t      mask1600.jpg  mask401.jpg  seg1001.jpg  seg1603.jpg  seg404.jpg\n",
            "mask0.jpg     mask1601.jpg  mask402.jpg  seg1002.jpg  seg1604.jpg  seg405.jpg\n",
            "mask1000.jpg  mask1602.jpg  mask403.jpg  seg1003.jpg  seg1605.jpg  seg406.jpg\n",
            "mask1001.jpg  mask1603.jpg  mask404.jpg  seg1004.jpg  seg1606.jpg  seg407.jpg\n",
            "mask1002.jpg  mask1604.jpg  mask405.jpg  seg1005.jpg  seg1607.jpg  seg408.jpg\n",
            "mask1003.jpg  mask1605.jpg  mask406.jpg  seg1006.jpg  seg1608.jpg  seg409.jpg\n",
            "mask1004.jpg  mask1606.jpg  mask407.jpg  seg1007.jpg  seg1609.jpg  seg40.jpg\n",
            "mask1005.jpg  mask1607.jpg  mask408.jpg  seg1008.jpg  seg160.jpg   seg410.jpg\n",
            "mask1006.jpg  mask1608.jpg  mask409.jpg  seg1009.jpg  seg1610.jpg  seg411.jpg\n",
            "mask1007.jpg  mask1609.jpg  mask40.jpg\t seg100.jpg   seg1611.jpg  seg412.jpg\n",
            "mask1008.jpg  mask160.jpg   mask410.jpg  seg1010.jpg  seg1612.jpg  seg413.jpg\n",
            "mask1009.jpg  mask1610.jpg  mask411.jpg  seg1011.jpg  seg1613.jpg  seg414.jpg\n",
            "mask100.jpg   mask1611.jpg  mask412.jpg  seg1012.jpg  seg1614.jpg  seg415.jpg\n",
            "mask1010.jpg  mask1612.jpg  mask413.jpg  seg1013.jpg  seg1615.jpg  seg416.jpg\n",
            "mask1011.jpg  mask1613.jpg  mask414.jpg  seg1014.jpg  seg1616.jpg  seg417.jpg\n",
            "mask1012.jpg  mask1614.jpg  mask415.jpg  seg1015.jpg  seg1617.jpg  seg418.jpg\n",
            "mask1013.jpg  mask1615.jpg  mask416.jpg  seg1016.jpg  seg1618.jpg  seg419.jpg\n",
            "mask1014.jpg  mask1616.jpg  mask417.jpg  seg1017.jpg  seg1619.jpg  seg41.jpg\n",
            "mask1015.jpg  mask1617.jpg  mask418.jpg  seg1018.jpg  seg161.jpg   seg420.jpg\n",
            "mask1016.jpg  mask1618.jpg  mask419.jpg  seg1019.jpg  seg1620.jpg  seg421.jpg\n",
            "mask1017.jpg  mask1619.jpg  mask41.jpg\t seg101.jpg   seg1621.jpg  seg422.jpg\n",
            "mask1018.jpg  mask161.jpg   mask420.jpg  seg1020.jpg  seg1622.jpg  seg423.jpg\n",
            "mask1019.jpg  mask1620.jpg  mask421.jpg  seg1021.jpg  seg1623.jpg  seg424.jpg\n",
            "mask101.jpg   mask1621.jpg  mask422.jpg  seg1022.jpg  seg1624.jpg  seg425.jpg\n",
            "mask1020.jpg  mask1622.jpg  mask423.jpg  seg1023.jpg  seg1625.jpg  seg426.jpg\n",
            "mask1021.jpg  mask1623.jpg  mask424.jpg  seg1024.jpg  seg1626.jpg  seg427.jpg\n",
            "mask1022.jpg  mask1624.jpg  mask425.jpg  seg1025.jpg  seg1627.jpg  seg428.jpg\n",
            "mask1023.jpg  mask1625.jpg  mask426.jpg  seg1026.jpg  seg1628.jpg  seg429.jpg\n",
            "mask1024.jpg  mask1626.jpg  mask427.jpg  seg1027.jpg  seg1629.jpg  seg42.jpg\n",
            "mask1025.jpg  mask1627.jpg  mask428.jpg  seg1028.jpg  seg162.jpg   seg430.jpg\n",
            "mask1026.jpg  mask1628.jpg  mask429.jpg  seg1029.jpg  seg1630.jpg  seg431.jpg\n",
            "mask1027.jpg  mask1629.jpg  mask42.jpg\t seg102.jpg   seg1631.jpg  seg432.jpg\n",
            "mask1028.jpg  mask162.jpg   mask430.jpg  seg1030.jpg  seg1632.jpg  seg433.jpg\n",
            "mask1029.jpg  mask1630.jpg  mask431.jpg  seg1031.jpg  seg1633.jpg  seg434.jpg\n",
            "mask102.jpg   mask1631.jpg  mask432.jpg  seg1032.jpg  seg1634.jpg  seg435.jpg\n",
            "mask1030.jpg  mask1632.jpg  mask433.jpg  seg1033.jpg  seg1635.jpg  seg436.jpg\n",
            "mask1031.jpg  mask1633.jpg  mask434.jpg  seg1034.jpg  seg1636.jpg  seg437.jpg\n",
            "mask1032.jpg  mask1634.jpg  mask435.jpg  seg1035.jpg  seg1637.jpg  seg438.jpg\n",
            "mask1033.jpg  mask1635.jpg  mask436.jpg  seg1036.jpg  seg1638.jpg  seg439.jpg\n",
            "mask1034.jpg  mask1636.jpg  mask437.jpg  seg1037.jpg  seg1639.jpg  seg43.jpg\n",
            "mask1035.jpg  mask1637.jpg  mask438.jpg  seg1038.jpg  seg163.jpg   seg440.jpg\n",
            "mask1036.jpg  mask1638.jpg  mask439.jpg  seg1039.jpg  seg1640.jpg  seg441.jpg\n",
            "mask1037.jpg  mask1639.jpg  mask43.jpg\t seg103.jpg   seg1641.jpg  seg442.jpg\n",
            "mask1038.jpg  mask163.jpg   mask440.jpg  seg1040.jpg  seg1642.jpg  seg443.jpg\n",
            "mask1039.jpg  mask1640.jpg  mask441.jpg  seg1041.jpg  seg1643.jpg  seg444.jpg\n",
            "mask103.jpg   mask1641.jpg  mask442.jpg  seg1042.jpg  seg1644.jpg  seg445.jpg\n",
            "mask1040.jpg  mask1642.jpg  mask443.jpg  seg1043.jpg  seg1645.jpg  seg446.jpg\n",
            "mask1041.jpg  mask1643.jpg  mask444.jpg  seg1044.jpg  seg1646.jpg  seg447.jpg\n",
            "mask1042.jpg  mask1644.jpg  mask445.jpg  seg1045.jpg  seg1647.jpg  seg448.jpg\n",
            "mask1043.jpg  mask1645.jpg  mask446.jpg  seg1046.jpg  seg1648.jpg  seg449.jpg\n",
            "mask1044.jpg  mask1646.jpg  mask447.jpg  seg1047.jpg  seg1649.jpg  seg44.jpg\n",
            "mask1045.jpg  mask1647.jpg  mask448.jpg  seg1048.jpg  seg164.jpg   seg450.jpg\n",
            "mask1046.jpg  mask1648.jpg  mask449.jpg  seg1049.jpg  seg1650.jpg  seg451.jpg\n",
            "mask1047.jpg  mask1649.jpg  mask44.jpg\t seg104.jpg   seg1651.jpg  seg452.jpg\n",
            "mask1048.jpg  mask164.jpg   mask450.jpg  seg1050.jpg  seg1652.jpg  seg453.jpg\n",
            "mask1049.jpg  mask1650.jpg  mask451.jpg  seg1051.jpg  seg1653.jpg  seg454.jpg\n",
            "mask104.jpg   mask1651.jpg  mask452.jpg  seg1052.jpg  seg1654.jpg  seg455.jpg\n",
            "mask1050.jpg  mask1652.jpg  mask453.jpg  seg1053.jpg  seg1655.jpg  seg456.jpg\n",
            "mask1051.jpg  mask1653.jpg  mask454.jpg  seg1054.jpg  seg1656.jpg  seg457.jpg\n",
            "mask1052.jpg  mask1654.jpg  mask455.jpg  seg1055.jpg  seg1657.jpg  seg458.jpg\n",
            "mask1053.jpg  mask1655.jpg  mask456.jpg  seg1056.jpg  seg1658.jpg  seg459.jpg\n",
            "mask1054.jpg  mask1656.jpg  mask457.jpg  seg1057.jpg  seg1659.jpg  seg45.jpg\n",
            "mask1055.jpg  mask1657.jpg  mask458.jpg  seg1058.jpg  seg165.jpg   seg460.jpg\n",
            "mask1056.jpg  mask1658.jpg  mask459.jpg  seg1059.jpg  seg1660.jpg  seg461.jpg\n",
            "mask1057.jpg  mask1659.jpg  mask45.jpg\t seg105.jpg   seg1661.jpg  seg462.jpg\n",
            "mask1058.jpg  mask165.jpg   mask460.jpg  seg1060.jpg  seg1662.jpg  seg463.jpg\n",
            "mask1059.jpg  mask1660.jpg  mask461.jpg  seg1061.jpg  seg1663.jpg  seg464.jpg\n",
            "mask105.jpg   mask1661.jpg  mask462.jpg  seg1062.jpg  seg1664.jpg  seg465.jpg\n",
            "mask1060.jpg  mask1662.jpg  mask463.jpg  seg1063.jpg  seg1665.jpg  seg466.jpg\n",
            "mask1061.jpg  mask1663.jpg  mask464.jpg  seg1064.jpg  seg1666.jpg  seg467.jpg\n",
            "mask1062.jpg  mask1664.jpg  mask465.jpg  seg1065.jpg  seg1667.jpg  seg468.jpg\n",
            "mask1063.jpg  mask1665.jpg  mask466.jpg  seg1066.jpg  seg1668.jpg  seg469.jpg\n",
            "mask1064.jpg  mask1666.jpg  mask467.jpg  seg1067.jpg  seg1669.jpg  seg46.jpg\n",
            "mask1065.jpg  mask1667.jpg  mask468.jpg  seg1068.jpg  seg166.jpg   seg470.jpg\n",
            "mask1066.jpg  mask1668.jpg  mask469.jpg  seg1069.jpg  seg1670.jpg  seg471.jpg\n",
            "mask1067.jpg  mask1669.jpg  mask46.jpg\t seg106.jpg   seg1671.jpg  seg472.jpg\n",
            "mask1068.jpg  mask166.jpg   mask470.jpg  seg1070.jpg  seg1672.jpg  seg473.jpg\n",
            "mask1069.jpg  mask1670.jpg  mask471.jpg  seg1071.jpg  seg1673.jpg  seg474.jpg\n",
            "mask106.jpg   mask1671.jpg  mask472.jpg  seg1072.jpg  seg1674.jpg  seg475.jpg\n",
            "mask1070.jpg  mask1672.jpg  mask473.jpg  seg1073.jpg  seg1675.jpg  seg476.jpg\n",
            "mask1071.jpg  mask1673.jpg  mask474.jpg  seg1074.jpg  seg1676.jpg  seg477.jpg\n",
            "mask1072.jpg  mask1674.jpg  mask475.jpg  seg1075.jpg  seg1677.jpg  seg478.jpg\n",
            "mask1073.jpg  mask1675.jpg  mask476.jpg  seg1076.jpg  seg1678.jpg  seg479.jpg\n",
            "mask1074.jpg  mask1676.jpg  mask477.jpg  seg1077.jpg  seg1679.jpg  seg47.jpg\n",
            "mask1075.jpg  mask1677.jpg  mask478.jpg  seg1078.jpg  seg167.jpg   seg480.jpg\n",
            "mask1076.jpg  mask1678.jpg  mask479.jpg  seg1079.jpg  seg1680.jpg  seg481.jpg\n",
            "mask1077.jpg  mask1679.jpg  mask47.jpg\t seg107.jpg   seg1681.jpg  seg482.jpg\n",
            "mask1078.jpg  mask167.jpg   mask480.jpg  seg1080.jpg  seg1682.jpg  seg483.jpg\n",
            "mask1079.jpg  mask1680.jpg  mask481.jpg  seg1081.jpg  seg1683.jpg  seg484.jpg\n",
            "mask107.jpg   mask1681.jpg  mask482.jpg  seg1082.jpg  seg1684.jpg  seg485.jpg\n",
            "mask1080.jpg  mask1682.jpg  mask483.jpg  seg1083.jpg  seg1685.jpg  seg486.jpg\n",
            "mask1081.jpg  mask1683.jpg  mask484.jpg  seg1084.jpg  seg1686.jpg  seg487.jpg\n",
            "mask1082.jpg  mask1684.jpg  mask485.jpg  seg1085.jpg  seg1687.jpg  seg488.jpg\n",
            "mask1083.jpg  mask1685.jpg  mask486.jpg  seg1086.jpg  seg1688.jpg  seg489.jpg\n",
            "mask1084.jpg  mask1686.jpg  mask487.jpg  seg1087.jpg  seg1689.jpg  seg48.jpg\n",
            "mask1085.jpg  mask1687.jpg  mask488.jpg  seg1088.jpg  seg168.jpg   seg490.jpg\n",
            "mask1086.jpg  mask1688.jpg  mask489.jpg  seg1089.jpg  seg1690.jpg  seg491.jpg\n",
            "mask1087.jpg  mask1689.jpg  mask48.jpg\t seg108.jpg   seg1691.jpg  seg492.jpg\n",
            "mask1088.jpg  mask168.jpg   mask490.jpg  seg1090.jpg  seg1692.jpg  seg493.jpg\n",
            "mask1089.jpg  mask1690.jpg  mask491.jpg  seg1091.jpg  seg1693.jpg  seg494.jpg\n",
            "mask108.jpg   mask1691.jpg  mask492.jpg  seg1092.jpg  seg1694.jpg  seg495.jpg\n",
            "mask1090.jpg  mask1692.jpg  mask493.jpg  seg1093.jpg  seg1695.jpg  seg496.jpg\n",
            "mask1091.jpg  mask1693.jpg  mask494.jpg  seg1094.jpg  seg1696.jpg  seg497.jpg\n",
            "mask1092.jpg  mask1694.jpg  mask495.jpg  seg1095.jpg  seg1697.jpg  seg498.jpg\n",
            "mask1093.jpg  mask1695.jpg  mask496.jpg  seg1096.jpg  seg1698.jpg  seg499.jpg\n",
            "mask1094.jpg  mask1696.jpg  mask497.jpg  seg1097.jpg  seg1699.jpg  seg49.jpg\n",
            "mask1095.jpg  mask1697.jpg  mask498.jpg  seg1098.jpg  seg169.jpg   seg4.jpg\n",
            "mask1096.jpg  mask1698.jpg  mask499.jpg  seg1099.jpg  seg16.jpg    seg500.jpg\n",
            "mask1097.jpg  mask1699.jpg  mask49.jpg\t seg109.jpg   seg1700.jpg  seg501.jpg\n",
            "mask1098.jpg  mask169.jpg   mask4.jpg\t seg10.jpg    seg1701.jpg  seg502.jpg\n",
            "mask1099.jpg  mask16.jpg    mask500.jpg  seg1100.jpg  seg1702.jpg  seg503.jpg\n",
            "mask109.jpg   mask1700.jpg  mask501.jpg  seg1101.jpg  seg1703.jpg  seg504.jpg\n",
            "mask10.jpg    mask1701.jpg  mask502.jpg  seg1102.jpg  seg1704.jpg  seg505.jpg\n",
            "mask1100.jpg  mask1702.jpg  mask503.jpg  seg1103.jpg  seg1705.jpg  seg506.jpg\n",
            "mask1101.jpg  mask1703.jpg  mask504.jpg  seg1104.jpg  seg1706.jpg  seg507.jpg\n",
            "mask1102.jpg  mask1704.jpg  mask505.jpg  seg1105.jpg  seg1707.jpg  seg508.jpg\n",
            "mask1103.jpg  mask1705.jpg  mask506.jpg  seg1106.jpg  seg1708.jpg  seg509.jpg\n",
            "mask1104.jpg  mask1706.jpg  mask507.jpg  seg1107.jpg  seg1709.jpg  seg50.jpg\n",
            "mask1105.jpg  mask1707.jpg  mask508.jpg  seg1108.jpg  seg170.jpg   seg510.jpg\n",
            "mask1106.jpg  mask1708.jpg  mask509.jpg  seg1109.jpg  seg1710.jpg  seg511.jpg\n",
            "mask1107.jpg  mask1709.jpg  mask50.jpg\t seg110.jpg   seg1711.jpg  seg512.jpg\n",
            "mask1108.jpg  mask170.jpg   mask510.jpg  seg1110.jpg  seg1712.jpg  seg513.jpg\n",
            "mask1109.jpg  mask1710.jpg  mask511.jpg  seg1111.jpg  seg1713.jpg  seg514.jpg\n",
            "mask110.jpg   mask1711.jpg  mask512.jpg  seg1112.jpg  seg1714.jpg  seg515.jpg\n",
            "mask1110.jpg  mask1712.jpg  mask513.jpg  seg1113.jpg  seg1715.jpg  seg516.jpg\n",
            "mask1111.jpg  mask1713.jpg  mask514.jpg  seg1114.jpg  seg1716.jpg  seg517.jpg\n",
            "mask1112.jpg  mask1714.jpg  mask515.jpg  seg1115.jpg  seg1717.jpg  seg518.jpg\n",
            "mask1113.jpg  mask1715.jpg  mask516.jpg  seg1116.jpg  seg1718.jpg  seg519.jpg\n",
            "mask1114.jpg  mask1716.jpg  mask517.jpg  seg1117.jpg  seg1719.jpg  seg51.jpg\n",
            "mask1115.jpg  mask1717.jpg  mask518.jpg  seg1118.jpg  seg171.jpg   seg520.jpg\n",
            "mask1116.jpg  mask1718.jpg  mask519.jpg  seg1119.jpg  seg1720.jpg  seg521.jpg\n",
            "mask1117.jpg  mask1719.jpg  mask51.jpg\t seg111.jpg   seg1721.jpg  seg522.jpg\n",
            "mask1118.jpg  mask171.jpg   mask520.jpg  seg1120.jpg  seg1722.jpg  seg523.jpg\n",
            "mask1119.jpg  mask1720.jpg  mask521.jpg  seg1121.jpg  seg1723.jpg  seg524.jpg\n",
            "mask111.jpg   mask1721.jpg  mask522.jpg  seg1122.jpg  seg1724.jpg  seg525.jpg\n",
            "mask1120.jpg  mask1722.jpg  mask523.jpg  seg1123.jpg  seg1725.jpg  seg526.jpg\n",
            "mask1121.jpg  mask1723.jpg  mask524.jpg  seg1124.jpg  seg1726.jpg  seg527.jpg\n",
            "mask1122.jpg  mask1724.jpg  mask525.jpg  seg1125.jpg  seg1727.jpg  seg528.jpg\n",
            "mask1123.jpg  mask1725.jpg  mask526.jpg  seg1126.jpg  seg1728.jpg  seg529.jpg\n",
            "mask1124.jpg  mask1726.jpg  mask527.jpg  seg1127.jpg  seg1729.jpg  seg52.jpg\n",
            "mask1125.jpg  mask1727.jpg  mask528.jpg  seg1128.jpg  seg172.jpg   seg530.jpg\n",
            "mask1126.jpg  mask1728.jpg  mask529.jpg  seg1129.jpg  seg1730.jpg  seg531.jpg\n",
            "mask1127.jpg  mask1729.jpg  mask52.jpg\t seg112.jpg   seg1731.jpg  seg532.jpg\n",
            "mask1128.jpg  mask172.jpg   mask530.jpg  seg1130.jpg  seg1732.jpg  seg533.jpg\n",
            "mask1129.jpg  mask1730.jpg  mask531.jpg  seg1131.jpg  seg1733.jpg  seg534.jpg\n",
            "mask112.jpg   mask1731.jpg  mask532.jpg  seg1132.jpg  seg1734.jpg  seg535.jpg\n",
            "mask1130.jpg  mask1732.jpg  mask533.jpg  seg1133.jpg  seg1735.jpg  seg536.jpg\n",
            "mask1131.jpg  mask1733.jpg  mask534.jpg  seg1134.jpg  seg1736.jpg  seg537.jpg\n",
            "mask1132.jpg  mask1734.jpg  mask535.jpg  seg1135.jpg  seg1737.jpg  seg538.jpg\n",
            "mask1133.jpg  mask1735.jpg  mask536.jpg  seg1136.jpg  seg1738.jpg  seg539.jpg\n",
            "mask1134.jpg  mask1736.jpg  mask537.jpg  seg1137.jpg  seg1739.jpg  seg53.jpg\n",
            "mask1135.jpg  mask1737.jpg  mask538.jpg  seg1138.jpg  seg173.jpg   seg540.jpg\n",
            "mask1136.jpg  mask1738.jpg  mask539.jpg  seg1139.jpg  seg1740.jpg  seg541.jpg\n",
            "mask1137.jpg  mask1739.jpg  mask53.jpg\t seg113.jpg   seg1741.jpg  seg542.jpg\n",
            "mask1138.jpg  mask173.jpg   mask540.jpg  seg1140.jpg  seg1742.jpg  seg543.jpg\n",
            "mask1139.jpg  mask1740.jpg  mask541.jpg  seg1141.jpg  seg1743.jpg  seg544.jpg\n",
            "mask113.jpg   mask1741.jpg  mask542.jpg  seg1142.jpg  seg1744.jpg  seg545.jpg\n",
            "mask1140.jpg  mask1742.jpg  mask543.jpg  seg1143.jpg  seg1745.jpg  seg546.jpg\n",
            "mask1141.jpg  mask1743.jpg  mask544.jpg  seg1144.jpg  seg1746.jpg  seg547.jpg\n",
            "mask1142.jpg  mask1744.jpg  mask545.jpg  seg1145.jpg  seg1747.jpg  seg548.jpg\n",
            "mask1143.jpg  mask1745.jpg  mask546.jpg  seg1146.jpg  seg1748.jpg  seg549.jpg\n",
            "mask1144.jpg  mask1746.jpg  mask547.jpg  seg1147.jpg  seg1749.jpg  seg54.jpg\n",
            "mask1145.jpg  mask1747.jpg  mask548.jpg  seg1148.jpg  seg174.jpg   seg550.jpg\n",
            "mask1146.jpg  mask1748.jpg  mask549.jpg  seg1149.jpg  seg1750.jpg  seg551.jpg\n",
            "mask1147.jpg  mask1749.jpg  mask54.jpg\t seg114.jpg   seg1751.jpg  seg552.jpg\n",
            "mask1148.jpg  mask174.jpg   mask550.jpg  seg1150.jpg  seg1752.jpg  seg553.jpg\n",
            "mask1149.jpg  mask1750.jpg  mask551.jpg  seg1151.jpg  seg1753.jpg  seg554.jpg\n",
            "mask114.jpg   mask1751.jpg  mask552.jpg  seg1152.jpg  seg1754.jpg  seg555.jpg\n",
            "mask1150.jpg  mask1752.jpg  mask553.jpg  seg1153.jpg  seg1755.jpg  seg556.jpg\n",
            "mask1151.jpg  mask1753.jpg  mask554.jpg  seg1154.jpg  seg1756.jpg  seg557.jpg\n",
            "mask1152.jpg  mask1754.jpg  mask555.jpg  seg1155.jpg  seg1757.jpg  seg558.jpg\n",
            "mask1153.jpg  mask1755.jpg  mask556.jpg  seg1156.jpg  seg1758.jpg  seg559.jpg\n",
            "mask1154.jpg  mask1756.jpg  mask557.jpg  seg1157.jpg  seg1759.jpg  seg55.jpg\n",
            "mask1155.jpg  mask1757.jpg  mask558.jpg  seg1158.jpg  seg175.jpg   seg560.jpg\n",
            "mask1156.jpg  mask1758.jpg  mask559.jpg  seg1159.jpg  seg1760.jpg  seg561.jpg\n",
            "mask1157.jpg  mask1759.jpg  mask55.jpg\t seg115.jpg   seg1761.jpg  seg562.jpg\n",
            "mask1158.jpg  mask175.jpg   mask560.jpg  seg1160.jpg  seg1762.jpg  seg563.jpg\n",
            "mask1159.jpg  mask1760.jpg  mask561.jpg  seg1161.jpg  seg1763.jpg  seg564.jpg\n",
            "mask115.jpg   mask1761.jpg  mask562.jpg  seg1162.jpg  seg1764.jpg  seg565.jpg\n",
            "mask1160.jpg  mask1762.jpg  mask563.jpg  seg1163.jpg  seg1765.jpg  seg566.jpg\n",
            "mask1161.jpg  mask1763.jpg  mask564.jpg  seg1164.jpg  seg1766.jpg  seg567.jpg\n",
            "mask1162.jpg  mask1764.jpg  mask565.jpg  seg1165.jpg  seg1767.jpg  seg568.jpg\n",
            "mask1163.jpg  mask1765.jpg  mask566.jpg  seg1166.jpg  seg1768.jpg  seg569.jpg\n",
            "mask1164.jpg  mask1766.jpg  mask567.jpg  seg1167.jpg  seg1769.jpg  seg56.jpg\n",
            "mask1165.jpg  mask1767.jpg  mask568.jpg  seg1168.jpg  seg176.jpg   seg570.jpg\n",
            "mask1166.jpg  mask1768.jpg  mask569.jpg  seg1169.jpg  seg1770.jpg  seg571.jpg\n",
            "mask1167.jpg  mask1769.jpg  mask56.jpg\t seg116.jpg   seg1771.jpg  seg572.jpg\n",
            "mask1168.jpg  mask176.jpg   mask570.jpg  seg1170.jpg  seg1772.jpg  seg573.jpg\n",
            "mask1169.jpg  mask1770.jpg  mask571.jpg  seg1171.jpg  seg1773.jpg  seg574.jpg\n",
            "mask116.jpg   mask1771.jpg  mask572.jpg  seg1172.jpg  seg1774.jpg  seg575.jpg\n",
            "mask1170.jpg  mask1772.jpg  mask573.jpg  seg1173.jpg  seg1775.jpg  seg576.jpg\n",
            "mask1171.jpg  mask1773.jpg  mask574.jpg  seg1174.jpg  seg1776.jpg  seg577.jpg\n",
            "mask1172.jpg  mask1774.jpg  mask575.jpg  seg1175.jpg  seg1777.jpg  seg578.jpg\n",
            "mask1173.jpg  mask1775.jpg  mask576.jpg  seg1176.jpg  seg1778.jpg  seg579.jpg\n",
            "mask1174.jpg  mask1776.jpg  mask577.jpg  seg1177.jpg  seg1779.jpg  seg57.jpg\n",
            "mask1175.jpg  mask1777.jpg  mask578.jpg  seg1178.jpg  seg177.jpg   seg580.jpg\n",
            "mask1176.jpg  mask1778.jpg  mask579.jpg  seg1179.jpg  seg1780.jpg  seg581.jpg\n",
            "mask1177.jpg  mask1779.jpg  mask57.jpg\t seg117.jpg   seg1781.jpg  seg582.jpg\n",
            "mask1178.jpg  mask177.jpg   mask580.jpg  seg1180.jpg  seg1782.jpg  seg583.jpg\n",
            "mask1179.jpg  mask1780.jpg  mask581.jpg  seg1181.jpg  seg1783.jpg  seg584.jpg\n",
            "mask117.jpg   mask1781.jpg  mask582.jpg  seg1182.jpg  seg1784.jpg  seg585.jpg\n",
            "mask1180.jpg  mask1782.jpg  mask583.jpg  seg1183.jpg  seg1785.jpg  seg586.jpg\n",
            "mask1181.jpg  mask1783.jpg  mask584.jpg  seg1184.jpg  seg1786.jpg  seg587.jpg\n",
            "mask1182.jpg  mask1784.jpg  mask585.jpg  seg1185.jpg  seg1787.jpg  seg588.jpg\n",
            "mask1183.jpg  mask1785.jpg  mask586.jpg  seg1186.jpg  seg1788.jpg  seg589.jpg\n",
            "mask1184.jpg  mask1786.jpg  mask587.jpg  seg1187.jpg  seg1789.jpg  seg58.jpg\n",
            "mask1185.jpg  mask1787.jpg  mask588.jpg  seg1188.jpg  seg178.jpg   seg590.jpg\n",
            "mask1186.jpg  mask1788.jpg  mask589.jpg  seg1189.jpg  seg1790.jpg  seg591.jpg\n",
            "mask1187.jpg  mask1789.jpg  mask58.jpg\t seg118.jpg   seg1791.jpg  seg592.jpg\n",
            "mask1188.jpg  mask178.jpg   mask590.jpg  seg1190.jpg  seg1792.jpg  seg593.jpg\n",
            "mask1189.jpg  mask1790.jpg  mask591.jpg  seg1191.jpg  seg1793.jpg  seg594.jpg\n",
            "mask118.jpg   mask1791.jpg  mask592.jpg  seg1192.jpg  seg1794.jpg  seg595.jpg\n",
            "mask1190.jpg  mask1792.jpg  mask593.jpg  seg1193.jpg  seg1795.jpg  seg596.jpg\n",
            "mask1191.jpg  mask1793.jpg  mask594.jpg  seg1194.jpg  seg1796.jpg  seg597.jpg\n",
            "mask1192.jpg  mask1794.jpg  mask595.jpg  seg1195.jpg  seg1797.jpg  seg598.jpg\n",
            "mask1193.jpg  mask1795.jpg  mask596.jpg  seg1196.jpg  seg1798.jpg  seg599.jpg\n",
            "mask1194.jpg  mask1796.jpg  mask597.jpg  seg1197.jpg  seg1799.jpg  seg59.jpg\n",
            "mask1195.jpg  mask1797.jpg  mask598.jpg  seg1198.jpg  seg179.jpg   seg5.jpg\n",
            "mask1196.jpg  mask1798.jpg  mask599.jpg  seg1199.jpg  seg17.jpg    seg600.jpg\n",
            "mask1197.jpg  mask1799.jpg  mask59.jpg\t seg119.jpg   seg1800.jpg  seg601.jpg\n",
            "mask1198.jpg  mask179.jpg   mask5.jpg\t seg11.jpg    seg1801.jpg  seg602.jpg\n",
            "mask1199.jpg  mask17.jpg    mask600.jpg  seg1200.jpg  seg1802.jpg  seg603.jpg\n",
            "mask119.jpg   mask1800.jpg  mask601.jpg  seg1201.jpg  seg1803.jpg  seg604.jpg\n",
            "mask11.jpg    mask1801.jpg  mask602.jpg  seg1202.jpg  seg1804.jpg  seg605.jpg\n",
            "mask1200.jpg  mask1802.jpg  mask603.jpg  seg1203.jpg  seg1805.jpg  seg606.jpg\n",
            "mask1201.jpg  mask1803.jpg  mask604.jpg  seg1204.jpg  seg1806.jpg  seg607.jpg\n",
            "mask1202.jpg  mask1804.jpg  mask605.jpg  seg1205.jpg  seg1807.jpg  seg608.jpg\n",
            "mask1203.jpg  mask1805.jpg  mask606.jpg  seg1206.jpg  seg1808.jpg  seg609.jpg\n",
            "mask1204.jpg  mask1806.jpg  mask607.jpg  seg1207.jpg  seg1809.jpg  seg60.jpg\n",
            "mask1205.jpg  mask1807.jpg  mask608.jpg  seg1208.jpg  seg180.jpg   seg610.jpg\n",
            "mask1206.jpg  mask1808.jpg  mask609.jpg  seg1209.jpg  seg1810.jpg  seg611.jpg\n",
            "mask1207.jpg  mask1809.jpg  mask60.jpg\t seg120.jpg   seg1811.jpg  seg612.jpg\n",
            "mask1208.jpg  mask180.jpg   mask610.jpg  seg1210.jpg  seg1812.jpg  seg613.jpg\n",
            "mask1209.jpg  mask1810.jpg  mask611.jpg  seg1211.jpg  seg1813.jpg  seg614.jpg\n",
            "mask120.jpg   mask1811.jpg  mask612.jpg  seg1212.jpg  seg1814.jpg  seg615.jpg\n",
            "mask1210.jpg  mask1812.jpg  mask613.jpg  seg1213.jpg  seg1815.jpg  seg616.jpg\n",
            "mask1211.jpg  mask1813.jpg  mask614.jpg  seg1214.jpg  seg1816.jpg  seg617.jpg\n",
            "mask1212.jpg  mask1814.jpg  mask615.jpg  seg1215.jpg  seg1817.jpg  seg618.jpg\n",
            "mask1213.jpg  mask1815.jpg  mask616.jpg  seg1216.jpg  seg1818.jpg  seg619.jpg\n",
            "mask1214.jpg  mask1816.jpg  mask617.jpg  seg1217.jpg  seg1819.jpg  seg61.jpg\n",
            "mask1215.jpg  mask1817.jpg  mask618.jpg  seg1218.jpg  seg181.jpg   seg620.jpg\n",
            "mask1216.jpg  mask1818.jpg  mask619.jpg  seg1219.jpg  seg1820.jpg  seg621.jpg\n",
            "mask1217.jpg  mask1819.jpg  mask61.jpg\t seg121.jpg   seg1821.jpg  seg622.jpg\n",
            "mask1218.jpg  mask181.jpg   mask620.jpg  seg1220.jpg  seg1822.jpg  seg623.jpg\n",
            "mask1219.jpg  mask1820.jpg  mask621.jpg  seg1221.jpg  seg1823.jpg  seg624.jpg\n",
            "mask121.jpg   mask1821.jpg  mask622.jpg  seg1222.jpg  seg1824.jpg  seg625.jpg\n",
            "mask1220.jpg  mask1822.jpg  mask623.jpg  seg1223.jpg  seg1825.jpg  seg626.jpg\n",
            "mask1221.jpg  mask1823.jpg  mask624.jpg  seg1224.jpg  seg1826.jpg  seg627.jpg\n",
            "mask1222.jpg  mask1824.jpg  mask625.jpg  seg1225.jpg  seg1827.jpg  seg628.jpg\n",
            "mask1223.jpg  mask1825.jpg  mask626.jpg  seg1226.jpg  seg1828.jpg  seg629.jpg\n",
            "mask1224.jpg  mask1826.jpg  mask627.jpg  seg1227.jpg  seg1829.jpg  seg62.jpg\n",
            "mask1225.jpg  mask1827.jpg  mask628.jpg  seg1228.jpg  seg182.jpg   seg630.jpg\n",
            "mask1226.jpg  mask1828.jpg  mask629.jpg  seg1229.jpg  seg1830.jpg  seg631.jpg\n",
            "mask1227.jpg  mask1829.jpg  mask62.jpg\t seg122.jpg   seg1831.jpg  seg632.jpg\n",
            "mask1228.jpg  mask182.jpg   mask630.jpg  seg1230.jpg  seg1832.jpg  seg633.jpg\n",
            "mask1229.jpg  mask1830.jpg  mask631.jpg  seg1231.jpg  seg1833.jpg  seg634.jpg\n",
            "mask122.jpg   mask1831.jpg  mask632.jpg  seg1232.jpg  seg1834.jpg  seg635.jpg\n",
            "mask1230.jpg  mask1832.jpg  mask633.jpg  seg1233.jpg  seg1835.jpg  seg636.jpg\n",
            "mask1231.jpg  mask1833.jpg  mask634.jpg  seg1234.jpg  seg1836.jpg  seg637.jpg\n",
            "mask1232.jpg  mask1834.jpg  mask635.jpg  seg1235.jpg  seg1837.jpg  seg638.jpg\n",
            "mask1233.jpg  mask1835.jpg  mask636.jpg  seg1236.jpg  seg1838.jpg  seg639.jpg\n",
            "mask1234.jpg  mask1836.jpg  mask637.jpg  seg1237.jpg  seg1839.jpg  seg63.jpg\n",
            "mask1235.jpg  mask1837.jpg  mask638.jpg  seg1238.jpg  seg183.jpg   seg640.jpg\n",
            "mask1236.jpg  mask1838.jpg  mask639.jpg  seg1239.jpg  seg1840.jpg  seg641.jpg\n",
            "mask1237.jpg  mask1839.jpg  mask63.jpg\t seg123.jpg   seg1841.jpg  seg642.jpg\n",
            "mask1238.jpg  mask183.jpg   mask640.jpg  seg1240.jpg  seg1842.jpg  seg643.jpg\n",
            "mask1239.jpg  mask1840.jpg  mask641.jpg  seg1241.jpg  seg1843.jpg  seg644.jpg\n",
            "mask123.jpg   mask1841.jpg  mask642.jpg  seg1242.jpg  seg1844.jpg  seg645.jpg\n",
            "mask1240.jpg  mask1842.jpg  mask643.jpg  seg1243.jpg  seg1845.jpg  seg646.jpg\n",
            "mask1241.jpg  mask1843.jpg  mask644.jpg  seg1244.jpg  seg1846.jpg  seg647.jpg\n",
            "mask1242.jpg  mask1844.jpg  mask645.jpg  seg1245.jpg  seg1847.jpg  seg648.jpg\n",
            "mask1243.jpg  mask1845.jpg  mask646.jpg  seg1246.jpg  seg1848.jpg  seg649.jpg\n",
            "mask1244.jpg  mask1846.jpg  mask647.jpg  seg1247.jpg  seg1849.jpg  seg64.jpg\n",
            "mask1245.jpg  mask1847.jpg  mask648.jpg  seg1248.jpg  seg184.jpg   seg650.jpg\n",
            "mask1246.jpg  mask1848.jpg  mask649.jpg  seg1249.jpg  seg1850.jpg  seg651.jpg\n",
            "mask1247.jpg  mask1849.jpg  mask64.jpg\t seg124.jpg   seg1851.jpg  seg652.jpg\n",
            "mask1248.jpg  mask184.jpg   mask650.jpg  seg1250.jpg  seg1852.jpg  seg653.jpg\n",
            "mask1249.jpg  mask1850.jpg  mask651.jpg  seg1251.jpg  seg1853.jpg  seg654.jpg\n",
            "mask124.jpg   mask1851.jpg  mask652.jpg  seg1252.jpg  seg1854.jpg  seg655.jpg\n",
            "mask1250.jpg  mask1852.jpg  mask653.jpg  seg1253.jpg  seg1855.jpg  seg656.jpg\n",
            "mask1251.jpg  mask1853.jpg  mask654.jpg  seg1254.jpg  seg1856.jpg  seg657.jpg\n",
            "mask1252.jpg  mask1854.jpg  mask655.jpg  seg1255.jpg  seg1857.jpg  seg658.jpg\n",
            "mask1253.jpg  mask1855.jpg  mask656.jpg  seg1256.jpg  seg1858.jpg  seg659.jpg\n",
            "mask1254.jpg  mask1856.jpg  mask657.jpg  seg1257.jpg  seg1859.jpg  seg65.jpg\n",
            "mask1255.jpg  mask1857.jpg  mask658.jpg  seg1258.jpg  seg185.jpg   seg660.jpg\n",
            "mask1256.jpg  mask1858.jpg  mask659.jpg  seg1259.jpg  seg1860.jpg  seg661.jpg\n",
            "mask1257.jpg  mask1859.jpg  mask65.jpg\t seg125.jpg   seg1861.jpg  seg662.jpg\n",
            "mask1258.jpg  mask185.jpg   mask660.jpg  seg1260.jpg  seg1862.jpg  seg663.jpg\n",
            "mask1259.jpg  mask1860.jpg  mask661.jpg  seg1261.jpg  seg1863.jpg  seg664.jpg\n",
            "mask125.jpg   mask1861.jpg  mask662.jpg  seg1262.jpg  seg1864.jpg  seg665.jpg\n",
            "mask1260.jpg  mask1862.jpg  mask663.jpg  seg1263.jpg  seg1865.jpg  seg666.jpg\n",
            "mask1261.jpg  mask1863.jpg  mask664.jpg  seg1264.jpg  seg1866.jpg  seg667.jpg\n",
            "mask1262.jpg  mask1864.jpg  mask665.jpg  seg1265.jpg  seg1867.jpg  seg668.jpg\n",
            "mask1263.jpg  mask1865.jpg  mask666.jpg  seg1266.jpg  seg1868.jpg  seg669.jpg\n",
            "mask1264.jpg  mask1866.jpg  mask667.jpg  seg1267.jpg  seg1869.jpg  seg66.jpg\n",
            "mask1265.jpg  mask1867.jpg  mask668.jpg  seg1268.jpg  seg186.jpg   seg670.jpg\n",
            "mask1266.jpg  mask1868.jpg  mask669.jpg  seg1269.jpg  seg1870.jpg  seg671.jpg\n",
            "mask1267.jpg  mask1869.jpg  mask66.jpg\t seg126.jpg   seg1871.jpg  seg672.jpg\n",
            "mask1268.jpg  mask186.jpg   mask670.jpg  seg1270.jpg  seg1872.jpg  seg673.jpg\n",
            "mask1269.jpg  mask1870.jpg  mask671.jpg  seg1271.jpg  seg1873.jpg  seg674.jpg\n",
            "mask126.jpg   mask1871.jpg  mask672.jpg  seg1272.jpg  seg1874.jpg  seg675.jpg\n",
            "mask1270.jpg  mask1872.jpg  mask673.jpg  seg1273.jpg  seg1875.jpg  seg676.jpg\n",
            "mask1271.jpg  mask1873.jpg  mask674.jpg  seg1274.jpg  seg1876.jpg  seg677.jpg\n",
            "mask1272.jpg  mask1874.jpg  mask675.jpg  seg1275.jpg  seg1877.jpg  seg678.jpg\n",
            "mask1273.jpg  mask1875.jpg  mask676.jpg  seg1276.jpg  seg1878.jpg  seg679.jpg\n",
            "mask1274.jpg  mask1876.jpg  mask677.jpg  seg1277.jpg  seg1879.jpg  seg67.jpg\n",
            "mask1275.jpg  mask1877.jpg  mask678.jpg  seg1278.jpg  seg187.jpg   seg680.jpg\n",
            "mask1276.jpg  mask1878.jpg  mask679.jpg  seg1279.jpg  seg1880.jpg  seg681.jpg\n",
            "mask1277.jpg  mask1879.jpg  mask67.jpg\t seg127.jpg   seg1881.jpg  seg682.jpg\n",
            "mask1278.jpg  mask187.jpg   mask680.jpg  seg1280.jpg  seg1882.jpg  seg683.jpg\n",
            "mask1279.jpg  mask1880.jpg  mask681.jpg  seg1281.jpg  seg1883.jpg  seg684.jpg\n",
            "mask127.jpg   mask1881.jpg  mask682.jpg  seg1282.jpg  seg1884.jpg  seg685.jpg\n",
            "mask1280.jpg  mask1882.jpg  mask683.jpg  seg1283.jpg  seg1885.jpg  seg686.jpg\n",
            "mask1281.jpg  mask1883.jpg  mask684.jpg  seg1284.jpg  seg1886.jpg  seg687.jpg\n",
            "mask1282.jpg  mask1884.jpg  mask685.jpg  seg1285.jpg  seg1887.jpg  seg688.jpg\n",
            "mask1283.jpg  mask1885.jpg  mask686.jpg  seg1286.jpg  seg1888.jpg  seg689.jpg\n",
            "mask1284.jpg  mask1886.jpg  mask687.jpg  seg1287.jpg  seg1889.jpg  seg68.jpg\n",
            "mask1285.jpg  mask1887.jpg  mask688.jpg  seg1288.jpg  seg188.jpg   seg690.jpg\n",
            "mask1286.jpg  mask1888.jpg  mask689.jpg  seg1289.jpg  seg1890.jpg  seg691.jpg\n",
            "mask1287.jpg  mask1889.jpg  mask68.jpg\t seg128.jpg   seg1891.jpg  seg692.jpg\n",
            "mask1288.jpg  mask188.jpg   mask690.jpg  seg1290.jpg  seg1892.jpg  seg693.jpg\n",
            "mask1289.jpg  mask1890.jpg  mask691.jpg  seg1291.jpg  seg1893.jpg  seg694.jpg\n",
            "mask128.jpg   mask1891.jpg  mask692.jpg  seg1292.jpg  seg1894.jpg  seg695.jpg\n",
            "mask1290.jpg  mask1892.jpg  mask693.jpg  seg1293.jpg  seg1895.jpg  seg696.jpg\n",
            "mask1291.jpg  mask1893.jpg  mask694.jpg  seg1294.jpg  seg1896.jpg  seg697.jpg\n",
            "mask1292.jpg  mask1894.jpg  mask695.jpg  seg1295.jpg  seg1897.jpg  seg698.jpg\n",
            "mask1293.jpg  mask1895.jpg  mask696.jpg  seg1296.jpg  seg1898.jpg  seg699.jpg\n",
            "mask1294.jpg  mask1896.jpg  mask697.jpg  seg1297.jpg  seg1899.jpg  seg69.jpg\n",
            "mask1295.jpg  mask1897.jpg  mask698.jpg  seg1298.jpg  seg189.jpg   seg6.jpg\n",
            "mask1296.jpg  mask1898.jpg  mask699.jpg  seg1299.jpg  seg18.jpg    seg700.jpg\n",
            "mask1297.jpg  mask1899.jpg  mask69.jpg\t seg129.jpg   seg1900.jpg  seg701.jpg\n",
            "mask1298.jpg  mask189.jpg   mask6.jpg\t seg12.jpg    seg1901.jpg  seg702.jpg\n",
            "mask1299.jpg  mask18.jpg    mask700.jpg  seg1300.jpg  seg1902.jpg  seg703.jpg\n",
            "mask129.jpg   mask1900.jpg  mask701.jpg  seg1301.jpg  seg1903.jpg  seg704.jpg\n",
            "mask12.jpg    mask1901.jpg  mask702.jpg  seg1302.jpg  seg1904.jpg  seg705.jpg\n",
            "mask1300.jpg  mask1902.jpg  mask703.jpg  seg1303.jpg  seg1905.jpg  seg706.jpg\n",
            "mask1301.jpg  mask1903.jpg  mask704.jpg  seg1304.jpg  seg1906.jpg  seg707.jpg\n",
            "mask1302.jpg  mask1904.jpg  mask705.jpg  seg1305.jpg  seg1907.jpg  seg708.jpg\n",
            "mask1303.jpg  mask1905.jpg  mask706.jpg  seg1306.jpg  seg1908.jpg  seg709.jpg\n",
            "mask1304.jpg  mask1906.jpg  mask707.jpg  seg1307.jpg  seg1909.jpg  seg70.jpg\n",
            "mask1305.jpg  mask1907.jpg  mask708.jpg  seg1308.jpg  seg190.jpg   seg710.jpg\n",
            "mask1306.jpg  mask1908.jpg  mask709.jpg  seg1309.jpg  seg1910.jpg  seg711.jpg\n",
            "mask1307.jpg  mask1909.jpg  mask70.jpg\t seg130.jpg   seg1911.jpg  seg712.jpg\n",
            "mask1308.jpg  mask190.jpg   mask710.jpg  seg1310.jpg  seg1912.jpg  seg713.jpg\n",
            "mask1309.jpg  mask1910.jpg  mask711.jpg  seg1311.jpg  seg1913.jpg  seg714.jpg\n",
            "mask130.jpg   mask1911.jpg  mask712.jpg  seg1312.jpg  seg1914.jpg  seg715.jpg\n",
            "mask1310.jpg  mask1912.jpg  mask713.jpg  seg1313.jpg  seg1915.jpg  seg716.jpg\n",
            "mask1311.jpg  mask1913.jpg  mask714.jpg  seg1314.jpg  seg1916.jpg  seg717.jpg\n",
            "mask1312.jpg  mask1914.jpg  mask715.jpg  seg1315.jpg  seg1917.jpg  seg718.jpg\n",
            "mask1313.jpg  mask1915.jpg  mask716.jpg  seg1316.jpg  seg1918.jpg  seg719.jpg\n",
            "mask1314.jpg  mask1916.jpg  mask717.jpg  seg1317.jpg  seg1919.jpg  seg71.jpg\n",
            "mask1315.jpg  mask1917.jpg  mask718.jpg  seg1318.jpg  seg191.jpg   seg720.jpg\n",
            "mask1316.jpg  mask1918.jpg  mask719.jpg  seg1319.jpg  seg1920.jpg  seg721.jpg\n",
            "mask1317.jpg  mask1919.jpg  mask71.jpg\t seg131.jpg   seg1921.jpg  seg722.jpg\n",
            "mask1318.jpg  mask191.jpg   mask720.jpg  seg1320.jpg  seg1922.jpg  seg723.jpg\n",
            "mask1319.jpg  mask1920.jpg  mask721.jpg  seg1321.jpg  seg1923.jpg  seg724.jpg\n",
            "mask131.jpg   mask1921.jpg  mask722.jpg  seg1322.jpg  seg1924.jpg  seg725.jpg\n",
            "mask1320.jpg  mask1922.jpg  mask723.jpg  seg1323.jpg  seg1925.jpg  seg726.jpg\n",
            "mask1321.jpg  mask1923.jpg  mask724.jpg  seg1324.jpg  seg1926.jpg  seg727.jpg\n",
            "mask1322.jpg  mask1924.jpg  mask725.jpg  seg1325.jpg  seg1927.jpg  seg728.jpg\n",
            "mask1323.jpg  mask1925.jpg  mask726.jpg  seg1326.jpg  seg1928.jpg  seg729.jpg\n",
            "mask1324.jpg  mask1926.jpg  mask727.jpg  seg1327.jpg  seg1929.jpg  seg72.jpg\n",
            "mask1325.jpg  mask1927.jpg  mask728.jpg  seg1328.jpg  seg192.jpg   seg730.jpg\n",
            "mask1326.jpg  mask1928.jpg  mask729.jpg  seg1329.jpg  seg1930.jpg  seg731.jpg\n",
            "mask1327.jpg  mask1929.jpg  mask72.jpg\t seg132.jpg   seg1931.jpg  seg732.jpg\n",
            "mask1328.jpg  mask192.jpg   mask730.jpg  seg1330.jpg  seg1932.jpg  seg733.jpg\n",
            "mask1329.jpg  mask1930.jpg  mask731.jpg  seg1331.jpg  seg1933.jpg  seg734.jpg\n",
            "mask132.jpg   mask1931.jpg  mask732.jpg  seg1332.jpg  seg1934.jpg  seg735.jpg\n",
            "mask1330.jpg  mask1932.jpg  mask733.jpg  seg1333.jpg  seg1935.jpg  seg736.jpg\n",
            "mask1331.jpg  mask1933.jpg  mask734.jpg  seg1334.jpg  seg1936.jpg  seg737.jpg\n",
            "mask1332.jpg  mask1934.jpg  mask735.jpg  seg1335.jpg  seg1937.jpg  seg738.jpg\n",
            "mask1333.jpg  mask1935.jpg  mask736.jpg  seg1336.jpg  seg1938.jpg  seg739.jpg\n",
            "mask1334.jpg  mask1936.jpg  mask737.jpg  seg1337.jpg  seg1939.jpg  seg73.jpg\n",
            "mask1335.jpg  mask1937.jpg  mask738.jpg  seg1338.jpg  seg193.jpg   seg740.jpg\n",
            "mask1336.jpg  mask1938.jpg  mask739.jpg  seg1339.jpg  seg1940.jpg  seg741.jpg\n",
            "mask1337.jpg  mask1939.jpg  mask73.jpg\t seg133.jpg   seg1941.jpg  seg742.jpg\n",
            "mask1338.jpg  mask193.jpg   mask740.jpg  seg1340.jpg  seg1942.jpg  seg743.jpg\n",
            "mask1339.jpg  mask1940.jpg  mask741.jpg  seg1341.jpg  seg1943.jpg  seg744.jpg\n",
            "mask133.jpg   mask1941.jpg  mask742.jpg  seg1342.jpg  seg1944.jpg  seg745.jpg\n",
            "mask1340.jpg  mask1942.jpg  mask743.jpg  seg1343.jpg  seg1945.jpg  seg746.jpg\n",
            "mask1341.jpg  mask1943.jpg  mask744.jpg  seg1344.jpg  seg1946.jpg  seg747.jpg\n",
            "mask1342.jpg  mask1944.jpg  mask745.jpg  seg1345.jpg  seg1947.jpg  seg748.jpg\n",
            "mask1343.jpg  mask1945.jpg  mask746.jpg  seg1346.jpg  seg1948.jpg  seg749.jpg\n",
            "mask1344.jpg  mask1946.jpg  mask747.jpg  seg1347.jpg  seg1949.jpg  seg74.jpg\n",
            "mask1345.jpg  mask1947.jpg  mask748.jpg  seg1348.jpg  seg194.jpg   seg750.jpg\n",
            "mask1346.jpg  mask1948.jpg  mask749.jpg  seg1349.jpg  seg1950.jpg  seg751.jpg\n",
            "mask1347.jpg  mask1949.jpg  mask74.jpg\t seg134.jpg   seg1951.jpg  seg752.jpg\n",
            "mask1348.jpg  mask194.jpg   mask750.jpg  seg1350.jpg  seg1952.jpg  seg753.jpg\n",
            "mask1349.jpg  mask1950.jpg  mask751.jpg  seg1351.jpg  seg1953.jpg  seg754.jpg\n",
            "mask134.jpg   mask1951.jpg  mask752.jpg  seg1352.jpg  seg1954.jpg  seg755.jpg\n",
            "mask1350.jpg  mask1952.jpg  mask753.jpg  seg1353.jpg  seg1955.jpg  seg756.jpg\n",
            "mask1351.jpg  mask1953.jpg  mask754.jpg  seg1354.jpg  seg1956.jpg  seg757.jpg\n",
            "mask1352.jpg  mask1954.jpg  mask755.jpg  seg1355.jpg  seg1957.jpg  seg758.jpg\n",
            "mask1353.jpg  mask1955.jpg  mask756.jpg  seg1356.jpg  seg1958.jpg  seg759.jpg\n",
            "mask1354.jpg  mask1956.jpg  mask757.jpg  seg1357.jpg  seg1959.jpg  seg75.jpg\n",
            "mask1355.jpg  mask1957.jpg  mask758.jpg  seg1358.jpg  seg195.jpg   seg760.jpg\n",
            "mask1356.jpg  mask1958.jpg  mask759.jpg  seg1359.jpg  seg1960.jpg  seg761.jpg\n",
            "mask1357.jpg  mask1959.jpg  mask75.jpg\t seg135.jpg   seg1961.jpg  seg762.jpg\n",
            "mask1358.jpg  mask195.jpg   mask760.jpg  seg1360.jpg  seg1962.jpg  seg763.jpg\n",
            "mask1359.jpg  mask1960.jpg  mask761.jpg  seg1361.jpg  seg1963.jpg  seg764.jpg\n",
            "mask135.jpg   mask1961.jpg  mask762.jpg  seg1362.jpg  seg1964.jpg  seg765.jpg\n",
            "mask1360.jpg  mask1962.jpg  mask763.jpg  seg1363.jpg  seg1965.jpg  seg766.jpg\n",
            "mask1361.jpg  mask1963.jpg  mask764.jpg  seg1364.jpg  seg1966.jpg  seg767.jpg\n",
            "mask1362.jpg  mask1964.jpg  mask765.jpg  seg1365.jpg  seg1967.jpg  seg768.jpg\n",
            "mask1363.jpg  mask1965.jpg  mask766.jpg  seg1366.jpg  seg1968.jpg  seg769.jpg\n",
            "mask1364.jpg  mask1966.jpg  mask767.jpg  seg1367.jpg  seg1969.jpg  seg76.jpg\n",
            "mask1365.jpg  mask1967.jpg  mask768.jpg  seg1368.jpg  seg196.jpg   seg770.jpg\n",
            "mask1366.jpg  mask1968.jpg  mask769.jpg  seg1369.jpg  seg1970.jpg  seg771.jpg\n",
            "mask1367.jpg  mask1969.jpg  mask76.jpg\t seg136.jpg   seg1971.jpg  seg772.jpg\n",
            "mask1368.jpg  mask196.jpg   mask770.jpg  seg1370.jpg  seg1972.jpg  seg773.jpg\n",
            "mask1369.jpg  mask1970.jpg  mask771.jpg  seg1371.jpg  seg1973.jpg  seg774.jpg\n",
            "mask136.jpg   mask1971.jpg  mask772.jpg  seg1372.jpg  seg1974.jpg  seg775.jpg\n",
            "mask1370.jpg  mask1972.jpg  mask773.jpg  seg1373.jpg  seg1975.jpg  seg776.jpg\n",
            "mask1371.jpg  mask1973.jpg  mask774.jpg  seg1374.jpg  seg1976.jpg  seg777.jpg\n",
            "mask1372.jpg  mask1974.jpg  mask775.jpg  seg1375.jpg  seg1977.jpg  seg778.jpg\n",
            "mask1373.jpg  mask1975.jpg  mask776.jpg  seg1376.jpg  seg1978.jpg  seg779.jpg\n",
            "mask1374.jpg  mask1976.jpg  mask777.jpg  seg1377.jpg  seg1979.jpg  seg77.jpg\n",
            "mask1375.jpg  mask1977.jpg  mask778.jpg  seg1378.jpg  seg197.jpg   seg780.jpg\n",
            "mask1376.jpg  mask1978.jpg  mask779.jpg  seg1379.jpg  seg1980.jpg  seg781.jpg\n",
            "mask1377.jpg  mask1979.jpg  mask77.jpg\t seg137.jpg   seg1981.jpg  seg782.jpg\n",
            "mask1378.jpg  mask197.jpg   mask780.jpg  seg1380.jpg  seg1982.jpg  seg783.jpg\n",
            "mask1379.jpg  mask1980.jpg  mask781.jpg  seg1381.jpg  seg1983.jpg  seg784.jpg\n",
            "mask137.jpg   mask1981.jpg  mask782.jpg  seg1382.jpg  seg1984.jpg  seg785.jpg\n",
            "mask1380.jpg  mask1982.jpg  mask783.jpg  seg1383.jpg  seg1985.jpg  seg786.jpg\n",
            "mask1381.jpg  mask1983.jpg  mask784.jpg  seg1384.jpg  seg1986.jpg  seg787.jpg\n",
            "mask1382.jpg  mask1984.jpg  mask785.jpg  seg1385.jpg  seg1987.jpg  seg788.jpg\n",
            "mask1383.jpg  mask1985.jpg  mask786.jpg  seg1386.jpg  seg1988.jpg  seg789.jpg\n",
            "mask1384.jpg  mask1986.jpg  mask787.jpg  seg1387.jpg  seg1989.jpg  seg78.jpg\n",
            "mask1385.jpg  mask1987.jpg  mask788.jpg  seg1388.jpg  seg198.jpg   seg790.jpg\n",
            "mask1386.jpg  mask1988.jpg  mask789.jpg  seg1389.jpg  seg1990.jpg  seg791.jpg\n",
            "mask1387.jpg  mask1989.jpg  mask78.jpg\t seg138.jpg   seg1991.jpg  seg792.jpg\n",
            "mask1388.jpg  mask198.jpg   mask790.jpg  seg1390.jpg  seg1992.jpg  seg793.jpg\n",
            "mask1389.jpg  mask1990.jpg  mask791.jpg  seg1391.jpg  seg1993.jpg  seg794.jpg\n",
            "mask138.jpg   mask1991.jpg  mask792.jpg  seg1392.jpg  seg1994.jpg  seg795.jpg\n",
            "mask1390.jpg  mask1992.jpg  mask793.jpg  seg1393.jpg  seg1995.jpg  seg796.jpg\n",
            "mask1391.jpg  mask1993.jpg  mask794.jpg  seg1394.jpg  seg1996.jpg  seg797.jpg\n",
            "mask1392.jpg  mask1994.jpg  mask795.jpg  seg1395.jpg  seg1997.jpg  seg798.jpg\n",
            "mask1393.jpg  mask1995.jpg  mask796.jpg  seg1396.jpg  seg1998.jpg  seg799.jpg\n",
            "mask1394.jpg  mask1996.jpg  mask797.jpg  seg1397.jpg  seg1999.jpg  seg79.jpg\n",
            "mask1395.jpg  mask1997.jpg  mask798.jpg  seg1398.jpg  seg199.jpg   seg7.jpg\n",
            "mask1396.jpg  mask1998.jpg  mask799.jpg  seg1399.jpg  seg19.jpg    seg800.jpg\n",
            "mask1397.jpg  mask1999.jpg  mask79.jpg\t seg139.jpg   seg1.jpg\t   seg801.jpg\n",
            "mask1398.jpg  mask199.jpg   mask7.jpg\t seg13.jpg    seg200.jpg   seg802.jpg\n",
            "mask1399.jpg  mask19.jpg    mask800.jpg  seg1400.jpg  seg201.jpg   seg803.jpg\n",
            "mask139.jpg   mask1.jpg     mask801.jpg  seg1401.jpg  seg202.jpg   seg804.jpg\n",
            "mask13.jpg    mask200.jpg   mask802.jpg  seg1402.jpg  seg203.jpg   seg805.jpg\n",
            "mask1400.jpg  mask201.jpg   mask803.jpg  seg1403.jpg  seg204.jpg   seg806.jpg\n",
            "mask1401.jpg  mask202.jpg   mask804.jpg  seg1404.jpg  seg205.jpg   seg807.jpg\n",
            "mask1402.jpg  mask203.jpg   mask805.jpg  seg1405.jpg  seg206.jpg   seg808.jpg\n",
            "mask1403.jpg  mask204.jpg   mask806.jpg  seg1406.jpg  seg207.jpg   seg809.jpg\n",
            "mask1404.jpg  mask205.jpg   mask807.jpg  seg1407.jpg  seg208.jpg   seg80.jpg\n",
            "mask1405.jpg  mask206.jpg   mask808.jpg  seg1408.jpg  seg209.jpg   seg810.jpg\n",
            "mask1406.jpg  mask207.jpg   mask809.jpg  seg1409.jpg  seg20.jpg    seg811.jpg\n",
            "mask1407.jpg  mask208.jpg   mask80.jpg\t seg140.jpg   seg210.jpg   seg812.jpg\n",
            "mask1408.jpg  mask209.jpg   mask810.jpg  seg1410.jpg  seg211.jpg   seg813.jpg\n",
            "mask1409.jpg  mask20.jpg    mask811.jpg  seg1411.jpg  seg212.jpg   seg814.jpg\n",
            "mask140.jpg   mask210.jpg   mask812.jpg  seg1412.jpg  seg213.jpg   seg815.jpg\n",
            "mask1410.jpg  mask211.jpg   mask813.jpg  seg1413.jpg  seg214.jpg   seg816.jpg\n",
            "mask1411.jpg  mask212.jpg   mask814.jpg  seg1414.jpg  seg215.jpg   seg817.jpg\n",
            "mask1412.jpg  mask213.jpg   mask815.jpg  seg1415.jpg  seg216.jpg   seg818.jpg\n",
            "mask1413.jpg  mask214.jpg   mask816.jpg  seg1416.jpg  seg217.jpg   seg819.jpg\n",
            "mask1414.jpg  mask215.jpg   mask817.jpg  seg1417.jpg  seg218.jpg   seg81.jpg\n",
            "mask1415.jpg  mask216.jpg   mask818.jpg  seg1418.jpg  seg219.jpg   seg820.jpg\n",
            "mask1416.jpg  mask217.jpg   mask819.jpg  seg1419.jpg  seg21.jpg    seg821.jpg\n",
            "mask1417.jpg  mask218.jpg   mask81.jpg\t seg141.jpg   seg220.jpg   seg822.jpg\n",
            "mask1418.jpg  mask219.jpg   mask820.jpg  seg1420.jpg  seg221.jpg   seg823.jpg\n",
            "mask1419.jpg  mask21.jpg    mask821.jpg  seg1421.jpg  seg222.jpg   seg824.jpg\n",
            "mask141.jpg   mask220.jpg   mask822.jpg  seg1422.jpg  seg223.jpg   seg825.jpg\n",
            "mask1420.jpg  mask221.jpg   mask823.jpg  seg1423.jpg  seg224.jpg   seg826.jpg\n",
            "mask1421.jpg  mask222.jpg   mask824.jpg  seg1424.jpg  seg225.jpg   seg827.jpg\n",
            "mask1422.jpg  mask223.jpg   mask825.jpg  seg1425.jpg  seg226.jpg   seg828.jpg\n",
            "mask1423.jpg  mask224.jpg   mask826.jpg  seg1426.jpg  seg227.jpg   seg829.jpg\n",
            "mask1424.jpg  mask225.jpg   mask827.jpg  seg1427.jpg  seg228.jpg   seg82.jpg\n",
            "mask1425.jpg  mask226.jpg   mask828.jpg  seg1428.jpg  seg229.jpg   seg830.jpg\n",
            "mask1426.jpg  mask227.jpg   mask829.jpg  seg1429.jpg  seg22.jpg    seg831.jpg\n",
            "mask1427.jpg  mask228.jpg   mask82.jpg\t seg142.jpg   seg230.jpg   seg832.jpg\n",
            "mask1428.jpg  mask229.jpg   mask830.jpg  seg1430.jpg  seg231.jpg   seg833.jpg\n",
            "mask1429.jpg  mask22.jpg    mask831.jpg  seg1431.jpg  seg232.jpg   seg834.jpg\n",
            "mask142.jpg   mask230.jpg   mask832.jpg  seg1432.jpg  seg233.jpg   seg835.jpg\n",
            "mask1430.jpg  mask231.jpg   mask833.jpg  seg1433.jpg  seg234.jpg   seg836.jpg\n",
            "mask1431.jpg  mask232.jpg   mask834.jpg  seg1434.jpg  seg235.jpg   seg837.jpg\n",
            "mask1432.jpg  mask233.jpg   mask835.jpg  seg1435.jpg  seg236.jpg   seg838.jpg\n",
            "mask1433.jpg  mask234.jpg   mask836.jpg  seg1436.jpg  seg237.jpg   seg839.jpg\n",
            "mask1434.jpg  mask235.jpg   mask837.jpg  seg1437.jpg  seg238.jpg   seg83.jpg\n",
            "mask1435.jpg  mask236.jpg   mask838.jpg  seg1438.jpg  seg239.jpg   seg840.jpg\n",
            "mask1436.jpg  mask237.jpg   mask839.jpg  seg1439.jpg  seg23.jpg    seg841.jpg\n",
            "mask1437.jpg  mask238.jpg   mask83.jpg\t seg143.jpg   seg240.jpg   seg842.jpg\n",
            "mask1438.jpg  mask239.jpg   mask840.jpg  seg1440.jpg  seg241.jpg   seg843.jpg\n",
            "mask1439.jpg  mask23.jpg    mask841.jpg  seg1441.jpg  seg242.jpg   seg844.jpg\n",
            "mask143.jpg   mask240.jpg   mask842.jpg  seg1442.jpg  seg243.jpg   seg845.jpg\n",
            "mask1440.jpg  mask241.jpg   mask843.jpg  seg1443.jpg  seg244.jpg   seg846.jpg\n",
            "mask1441.jpg  mask242.jpg   mask844.jpg  seg1444.jpg  seg245.jpg   seg847.jpg\n",
            "mask1442.jpg  mask243.jpg   mask845.jpg  seg1445.jpg  seg246.jpg   seg848.jpg\n",
            "mask1443.jpg  mask244.jpg   mask846.jpg  seg1446.jpg  seg247.jpg   seg849.jpg\n",
            "mask1444.jpg  mask245.jpg   mask847.jpg  seg1447.jpg  seg248.jpg   seg84.jpg\n",
            "mask1445.jpg  mask246.jpg   mask848.jpg  seg1448.jpg  seg249.jpg   seg850.jpg\n",
            "mask1446.jpg  mask247.jpg   mask849.jpg  seg1449.jpg  seg24.jpg    seg851.jpg\n",
            "mask1447.jpg  mask248.jpg   mask84.jpg\t seg144.jpg   seg250.jpg   seg852.jpg\n",
            "mask1448.jpg  mask249.jpg   mask850.jpg  seg1450.jpg  seg251.jpg   seg853.jpg\n",
            "mask1449.jpg  mask24.jpg    mask851.jpg  seg1451.jpg  seg252.jpg   seg854.jpg\n",
            "mask144.jpg   mask250.jpg   mask852.jpg  seg1452.jpg  seg253.jpg   seg855.jpg\n",
            "mask1450.jpg  mask251.jpg   mask853.jpg  seg1453.jpg  seg254.jpg   seg856.jpg\n",
            "mask1451.jpg  mask252.jpg   mask854.jpg  seg1454.jpg  seg255.jpg   seg857.jpg\n",
            "mask1452.jpg  mask253.jpg   mask855.jpg  seg1455.jpg  seg256.jpg   seg858.jpg\n",
            "mask1453.jpg  mask254.jpg   mask856.jpg  seg1456.jpg  seg257.jpg   seg859.jpg\n",
            "mask1454.jpg  mask255.jpg   mask857.jpg  seg1457.jpg  seg258.jpg   seg85.jpg\n",
            "mask1455.jpg  mask256.jpg   mask858.jpg  seg1458.jpg  seg259.jpg   seg860.jpg\n",
            "mask1456.jpg  mask257.jpg   mask859.jpg  seg1459.jpg  seg25.jpg    seg861.jpg\n",
            "mask1457.jpg  mask258.jpg   mask85.jpg\t seg145.jpg   seg260.jpg   seg862.jpg\n",
            "mask1458.jpg  mask259.jpg   mask860.jpg  seg1460.jpg  seg261.jpg   seg863.jpg\n",
            "mask1459.jpg  mask25.jpg    mask861.jpg  seg1461.jpg  seg262.jpg   seg864.jpg\n",
            "mask145.jpg   mask260.jpg   mask862.jpg  seg1462.jpg  seg263.jpg   seg865.jpg\n",
            "mask1460.jpg  mask261.jpg   mask863.jpg  seg1463.jpg  seg264.jpg   seg866.jpg\n",
            "mask1461.jpg  mask262.jpg   mask864.jpg  seg1464.jpg  seg265.jpg   seg867.jpg\n",
            "mask1462.jpg  mask263.jpg   mask865.jpg  seg1465.jpg  seg266.jpg   seg868.jpg\n",
            "mask1463.jpg  mask264.jpg   mask866.jpg  seg1466.jpg  seg267.jpg   seg869.jpg\n",
            "mask1464.jpg  mask265.jpg   mask867.jpg  seg1467.jpg  seg268.jpg   seg86.jpg\n",
            "mask1465.jpg  mask266.jpg   mask868.jpg  seg1468.jpg  seg269.jpg   seg870.jpg\n",
            "mask1466.jpg  mask267.jpg   mask869.jpg  seg1469.jpg  seg26.jpg    seg871.jpg\n",
            "mask1467.jpg  mask268.jpg   mask86.jpg\t seg146.jpg   seg270.jpg   seg872.jpg\n",
            "mask1468.jpg  mask269.jpg   mask870.jpg  seg1470.jpg  seg271.jpg   seg873.jpg\n",
            "mask1469.jpg  mask26.jpg    mask871.jpg  seg1471.jpg  seg272.jpg   seg874.jpg\n",
            "mask146.jpg   mask270.jpg   mask872.jpg  seg1472.jpg  seg273.jpg   seg875.jpg\n",
            "mask1470.jpg  mask271.jpg   mask873.jpg  seg1473.jpg  seg274.jpg   seg876.jpg\n",
            "mask1471.jpg  mask272.jpg   mask874.jpg  seg1474.jpg  seg275.jpg   seg877.jpg\n",
            "mask1472.jpg  mask273.jpg   mask875.jpg  seg1475.jpg  seg276.jpg   seg878.jpg\n",
            "mask1473.jpg  mask274.jpg   mask876.jpg  seg1476.jpg  seg277.jpg   seg879.jpg\n",
            "mask1474.jpg  mask275.jpg   mask877.jpg  seg1477.jpg  seg278.jpg   seg87.jpg\n",
            "mask1475.jpg  mask276.jpg   mask878.jpg  seg1478.jpg  seg279.jpg   seg880.jpg\n",
            "mask1476.jpg  mask277.jpg   mask879.jpg  seg1479.jpg  seg27.jpg    seg881.jpg\n",
            "mask1477.jpg  mask278.jpg   mask87.jpg\t seg147.jpg   seg280.jpg   seg882.jpg\n",
            "mask1478.jpg  mask279.jpg   mask880.jpg  seg1480.jpg  seg281.jpg   seg883.jpg\n",
            "mask1479.jpg  mask27.jpg    mask881.jpg  seg1481.jpg  seg282.jpg   seg884.jpg\n",
            "mask147.jpg   mask280.jpg   mask882.jpg  seg1482.jpg  seg283.jpg   seg885.jpg\n",
            "mask1480.jpg  mask281.jpg   mask883.jpg  seg1483.jpg  seg284.jpg   seg886.jpg\n",
            "mask1481.jpg  mask282.jpg   mask884.jpg  seg1484.jpg  seg285.jpg   seg887.jpg\n",
            "mask1482.jpg  mask283.jpg   mask885.jpg  seg1485.jpg  seg286.jpg   seg888.jpg\n",
            "mask1483.jpg  mask284.jpg   mask886.jpg  seg1486.jpg  seg287.jpg   seg889.jpg\n",
            "mask1484.jpg  mask285.jpg   mask887.jpg  seg1487.jpg  seg288.jpg   seg88.jpg\n",
            "mask1485.jpg  mask286.jpg   mask888.jpg  seg1488.jpg  seg289.jpg   seg890.jpg\n",
            "mask1486.jpg  mask287.jpg   mask889.jpg  seg1489.jpg  seg28.jpg    seg891.jpg\n",
            "mask1487.jpg  mask288.jpg   mask88.jpg\t seg148.jpg   seg290.jpg   seg892.jpg\n",
            "mask1488.jpg  mask289.jpg   mask890.jpg  seg1490.jpg  seg291.jpg   seg893.jpg\n",
            "mask1489.jpg  mask28.jpg    mask891.jpg  seg1491.jpg  seg292.jpg   seg894.jpg\n",
            "mask148.jpg   mask290.jpg   mask892.jpg  seg1492.jpg  seg293.jpg   seg895.jpg\n",
            "mask1490.jpg  mask291.jpg   mask893.jpg  seg1493.jpg  seg294.jpg   seg896.jpg\n",
            "mask1491.jpg  mask292.jpg   mask894.jpg  seg1494.jpg  seg295.jpg   seg897.jpg\n",
            "mask1492.jpg  mask293.jpg   mask895.jpg  seg1495.jpg  seg296.jpg   seg898.jpg\n",
            "mask1493.jpg  mask294.jpg   mask896.jpg  seg1496.jpg  seg297.jpg   seg899.jpg\n",
            "mask1494.jpg  mask295.jpg   mask897.jpg  seg1497.jpg  seg298.jpg   seg89.jpg\n",
            "mask1495.jpg  mask296.jpg   mask898.jpg  seg1498.jpg  seg299.jpg   seg8.jpg\n",
            "mask1496.jpg  mask297.jpg   mask899.jpg  seg1499.jpg  seg29.jpg    seg900.jpg\n",
            "mask1497.jpg  mask298.jpg   mask89.jpg\t seg149.jpg   seg2.jpg\t   seg901.jpg\n",
            "mask1498.jpg  mask299.jpg   mask8.jpg\t seg14.jpg    seg300.jpg   seg902.jpg\n",
            "mask1499.jpg  mask29.jpg    mask900.jpg  seg1500.jpg  seg301.jpg   seg903.jpg\n",
            "mask149.jpg   mask2.jpg     mask901.jpg  seg1501.jpg  seg302.jpg   seg904.jpg\n",
            "mask14.jpg    mask300.jpg   mask902.jpg  seg1502.jpg  seg303.jpg   seg905.jpg\n",
            "mask1500.jpg  mask301.jpg   mask903.jpg  seg1503.jpg  seg304.jpg   seg906.jpg\n",
            "mask1501.jpg  mask302.jpg   mask904.jpg  seg1504.jpg  seg305.jpg   seg907.jpg\n",
            "mask1502.jpg  mask303.jpg   mask905.jpg  seg1505.jpg  seg306.jpg   seg908.jpg\n",
            "mask1503.jpg  mask304.jpg   mask906.jpg  seg1506.jpg  seg307.jpg   seg909.jpg\n",
            "mask1504.jpg  mask305.jpg   mask907.jpg  seg1507.jpg  seg308.jpg   seg90.jpg\n",
            "mask1505.jpg  mask306.jpg   mask908.jpg  seg1508.jpg  seg309.jpg   seg910.jpg\n",
            "mask1506.jpg  mask307.jpg   mask909.jpg  seg1509.jpg  seg30.jpg    seg911.jpg\n",
            "mask1507.jpg  mask308.jpg   mask90.jpg\t seg150.jpg   seg310.jpg   seg912.jpg\n",
            "mask1508.jpg  mask309.jpg   mask910.jpg  seg1510.jpg  seg311.jpg   seg913.jpg\n",
            "mask1509.jpg  mask30.jpg    mask911.jpg  seg1511.jpg  seg312.jpg   seg914.jpg\n",
            "mask150.jpg   mask310.jpg   mask912.jpg  seg1512.jpg  seg313.jpg   seg915.jpg\n",
            "mask1510.jpg  mask311.jpg   mask913.jpg  seg1513.jpg  seg314.jpg   seg916.jpg\n",
            "mask1511.jpg  mask312.jpg   mask914.jpg  seg1514.jpg  seg315.jpg   seg917.jpg\n",
            "mask1512.jpg  mask313.jpg   mask915.jpg  seg1515.jpg  seg316.jpg   seg918.jpg\n",
            "mask1513.jpg  mask314.jpg   mask916.jpg  seg1516.jpg  seg317.jpg   seg919.jpg\n",
            "mask1514.jpg  mask315.jpg   mask917.jpg  seg1517.jpg  seg318.jpg   seg91.jpg\n",
            "mask1515.jpg  mask316.jpg   mask918.jpg  seg1518.jpg  seg319.jpg   seg920.jpg\n",
            "mask1516.jpg  mask317.jpg   mask919.jpg  seg1519.jpg  seg31.jpg    seg921.jpg\n",
            "mask1517.jpg  mask318.jpg   mask91.jpg\t seg151.jpg   seg320.jpg   seg922.jpg\n",
            "mask1518.jpg  mask319.jpg   mask920.jpg  seg1520.jpg  seg321.jpg   seg923.jpg\n",
            "mask1519.jpg  mask31.jpg    mask921.jpg  seg1521.jpg  seg322.jpg   seg924.jpg\n",
            "mask151.jpg   mask320.jpg   mask922.jpg  seg1522.jpg  seg323.jpg   seg925.jpg\n",
            "mask1520.jpg  mask321.jpg   mask923.jpg  seg1523.jpg  seg324.jpg   seg926.jpg\n",
            "mask1521.jpg  mask322.jpg   mask924.jpg  seg1524.jpg  seg325.jpg   seg927.jpg\n",
            "mask1522.jpg  mask323.jpg   mask925.jpg  seg1525.jpg  seg326.jpg   seg928.jpg\n",
            "mask1523.jpg  mask324.jpg   mask926.jpg  seg1526.jpg  seg327.jpg   seg929.jpg\n",
            "mask1524.jpg  mask325.jpg   mask927.jpg  seg1527.jpg  seg328.jpg   seg92.jpg\n",
            "mask1525.jpg  mask326.jpg   mask928.jpg  seg1528.jpg  seg329.jpg   seg930.jpg\n",
            "mask1526.jpg  mask327.jpg   mask929.jpg  seg1529.jpg  seg32.jpg    seg931.jpg\n",
            "mask1527.jpg  mask328.jpg   mask92.jpg\t seg152.jpg   seg330.jpg   seg932.jpg\n",
            "mask1528.jpg  mask329.jpg   mask930.jpg  seg1530.jpg  seg331.jpg   seg933.jpg\n",
            "mask1529.jpg  mask32.jpg    mask931.jpg  seg1531.jpg  seg332.jpg   seg934.jpg\n",
            "mask152.jpg   mask330.jpg   mask932.jpg  seg1532.jpg  seg333.jpg   seg935.jpg\n",
            "mask1530.jpg  mask331.jpg   mask933.jpg  seg1533.jpg  seg334.jpg   seg936.jpg\n",
            "mask1531.jpg  mask332.jpg   mask934.jpg  seg1534.jpg  seg335.jpg   seg937.jpg\n",
            "mask1532.jpg  mask333.jpg   mask935.jpg  seg1535.jpg  seg336.jpg   seg938.jpg\n",
            "mask1533.jpg  mask334.jpg   mask936.jpg  seg1536.jpg  seg337.jpg   seg939.jpg\n",
            "mask1534.jpg  mask335.jpg   mask937.jpg  seg1537.jpg  seg338.jpg   seg93.jpg\n",
            "mask1535.jpg  mask336.jpg   mask938.jpg  seg1538.jpg  seg339.jpg   seg940.jpg\n",
            "mask1536.jpg  mask337.jpg   mask939.jpg  seg1539.jpg  seg33.jpg    seg941.jpg\n",
            "mask1537.jpg  mask338.jpg   mask93.jpg\t seg153.jpg   seg340.jpg   seg942.jpg\n",
            "mask1538.jpg  mask339.jpg   mask940.jpg  seg1540.jpg  seg341.jpg   seg943.jpg\n",
            "mask1539.jpg  mask33.jpg    mask941.jpg  seg1541.jpg  seg342.jpg   seg944.jpg\n",
            "mask153.jpg   mask340.jpg   mask942.jpg  seg1542.jpg  seg343.jpg   seg945.jpg\n",
            "mask1540.jpg  mask341.jpg   mask943.jpg  seg1543.jpg  seg344.jpg   seg946.jpg\n",
            "mask1541.jpg  mask342.jpg   mask944.jpg  seg1544.jpg  seg345.jpg   seg947.jpg\n",
            "mask1542.jpg  mask343.jpg   mask945.jpg  seg1545.jpg  seg346.jpg   seg948.jpg\n",
            "mask1543.jpg  mask344.jpg   mask946.jpg  seg1546.jpg  seg347.jpg   seg949.jpg\n",
            "mask1544.jpg  mask345.jpg   mask947.jpg  seg1547.jpg  seg348.jpg   seg94.jpg\n",
            "mask1545.jpg  mask346.jpg   mask948.jpg  seg1548.jpg  seg349.jpg   seg950.jpg\n",
            "mask1546.jpg  mask347.jpg   mask949.jpg  seg1549.jpg  seg34.jpg    seg951.jpg\n",
            "mask1547.jpg  mask348.jpg   mask94.jpg\t seg154.jpg   seg350.jpg   seg952.jpg\n",
            "mask1548.jpg  mask349.jpg   mask950.jpg  seg1550.jpg  seg351.jpg   seg953.jpg\n",
            "mask1549.jpg  mask34.jpg    mask951.jpg  seg1551.jpg  seg352.jpg   seg954.jpg\n",
            "mask154.jpg   mask350.jpg   mask952.jpg  seg1552.jpg  seg353.jpg   seg955.jpg\n",
            "mask1550.jpg  mask351.jpg   mask953.jpg  seg1553.jpg  seg354.jpg   seg956.jpg\n",
            "mask1551.jpg  mask352.jpg   mask954.jpg  seg1554.jpg  seg355.jpg   seg957.jpg\n",
            "mask1552.jpg  mask353.jpg   mask955.jpg  seg1555.jpg  seg356.jpg   seg958.jpg\n",
            "mask1553.jpg  mask354.jpg   mask956.jpg  seg1556.jpg  seg357.jpg   seg959.jpg\n",
            "mask1554.jpg  mask355.jpg   mask957.jpg  seg1557.jpg  seg358.jpg   seg95.jpg\n",
            "mask1555.jpg  mask356.jpg   mask958.jpg  seg1558.jpg  seg359.jpg   seg960.jpg\n",
            "mask1556.jpg  mask357.jpg   mask959.jpg  seg1559.jpg  seg35.jpg    seg961.jpg\n",
            "mask1557.jpg  mask358.jpg   mask95.jpg\t seg155.jpg   seg360.jpg   seg962.jpg\n",
            "mask1558.jpg  mask359.jpg   mask960.jpg  seg1560.jpg  seg361.jpg   seg963.jpg\n",
            "mask1559.jpg  mask35.jpg    mask961.jpg  seg1561.jpg  seg362.jpg   seg964.jpg\n",
            "mask155.jpg   mask360.jpg   mask962.jpg  seg1562.jpg  seg363.jpg   seg965.jpg\n",
            "mask1560.jpg  mask361.jpg   mask963.jpg  seg1563.jpg  seg364.jpg   seg966.jpg\n",
            "mask1561.jpg  mask362.jpg   mask964.jpg  seg1564.jpg  seg365.jpg   seg967.jpg\n",
            "mask1562.jpg  mask363.jpg   mask965.jpg  seg1565.jpg  seg366.jpg   seg968.jpg\n",
            "mask1563.jpg  mask364.jpg   mask966.jpg  seg1566.jpg  seg367.jpg   seg969.jpg\n",
            "mask1564.jpg  mask365.jpg   mask967.jpg  seg1567.jpg  seg368.jpg   seg96.jpg\n",
            "mask1565.jpg  mask366.jpg   mask968.jpg  seg1568.jpg  seg369.jpg   seg970.jpg\n",
            "mask1566.jpg  mask367.jpg   mask969.jpg  seg1569.jpg  seg36.jpg    seg971.jpg\n",
            "mask1567.jpg  mask368.jpg   mask96.jpg\t seg156.jpg   seg370.jpg   seg972.jpg\n",
            "mask1568.jpg  mask369.jpg   mask970.jpg  seg1570.jpg  seg371.jpg   seg973.jpg\n",
            "mask1569.jpg  mask36.jpg    mask971.jpg  seg1571.jpg  seg372.jpg   seg974.jpg\n",
            "mask156.jpg   mask370.jpg   mask972.jpg  seg1572.jpg  seg373.jpg   seg975.jpg\n",
            "mask1570.jpg  mask371.jpg   mask973.jpg  seg1573.jpg  seg374.jpg   seg976.jpg\n",
            "mask1571.jpg  mask372.jpg   mask974.jpg  seg1574.jpg  seg375.jpg   seg977.jpg\n",
            "mask1572.jpg  mask373.jpg   mask975.jpg  seg1575.jpg  seg376.jpg   seg978.jpg\n",
            "mask1573.jpg  mask374.jpg   mask976.jpg  seg1576.jpg  seg377.jpg   seg979.jpg\n",
            "mask1574.jpg  mask375.jpg   mask977.jpg  seg1577.jpg  seg378.jpg   seg97.jpg\n",
            "mask1575.jpg  mask376.jpg   mask978.jpg  seg1578.jpg  seg379.jpg   seg980.jpg\n",
            "mask1576.jpg  mask377.jpg   mask979.jpg  seg1579.jpg  seg37.jpg    seg981.jpg\n",
            "mask1577.jpg  mask378.jpg   mask97.jpg\t seg157.jpg   seg380.jpg   seg982.jpg\n",
            "mask1578.jpg  mask379.jpg   mask980.jpg  seg1580.jpg  seg381.jpg   seg983.jpg\n",
            "mask1579.jpg  mask37.jpg    mask981.jpg  seg1581.jpg  seg382.jpg   seg984.jpg\n",
            "mask157.jpg   mask380.jpg   mask982.jpg  seg1582.jpg  seg383.jpg   seg985.jpg\n",
            "mask1580.jpg  mask381.jpg   mask983.jpg  seg1583.jpg  seg384.jpg   seg986.jpg\n",
            "mask1581.jpg  mask382.jpg   mask984.jpg  seg1584.jpg  seg385.jpg   seg987.jpg\n",
            "mask1582.jpg  mask383.jpg   mask985.jpg  seg1585.jpg  seg386.jpg   seg988.jpg\n",
            "mask1583.jpg  mask384.jpg   mask986.jpg  seg1586.jpg  seg387.jpg   seg989.jpg\n",
            "mask1584.jpg  mask385.jpg   mask987.jpg  seg1587.jpg  seg388.jpg   seg98.jpg\n",
            "mask1585.jpg  mask386.jpg   mask988.jpg  seg1588.jpg  seg389.jpg   seg990.jpg\n",
            "mask1586.jpg  mask387.jpg   mask989.jpg  seg1589.jpg  seg38.jpg    seg991.jpg\n",
            "mask1587.jpg  mask388.jpg   mask98.jpg\t seg158.jpg   seg390.jpg   seg992.jpg\n",
            "mask1588.jpg  mask389.jpg   mask990.jpg  seg1590.jpg  seg391.jpg   seg993.jpg\n",
            "mask1589.jpg  mask38.jpg    mask991.jpg  seg1591.jpg  seg392.jpg   seg994.jpg\n",
            "mask158.jpg   mask390.jpg   mask992.jpg  seg1592.jpg  seg393.jpg   seg995.jpg\n",
            "mask1590.jpg  mask391.jpg   mask993.jpg  seg1593.jpg  seg394.jpg   seg996.jpg\n",
            "mask1591.jpg  mask392.jpg   mask994.jpg  seg1594.jpg  seg395.jpg   seg997.jpg\n",
            "mask1592.jpg  mask393.jpg   mask995.jpg  seg1595.jpg  seg396.jpg   seg998.jpg\n",
            "mask1593.jpg  mask394.jpg   mask996.jpg  seg1596.jpg  seg397.jpg   seg999.jpg\n",
            "mask1594.jpg  mask395.jpg   mask997.jpg  seg1597.jpg  seg398.jpg   seg99.jpg\n",
            "mask1595.jpg  mask396.jpg   mask998.jpg  seg1598.jpg  seg399.jpg   seg9.jpg\n",
            "mask1596.jpg  mask397.jpg   mask999.jpg  seg1599.jpg  seg39.jpg\n",
            "mask1597.jpg  mask398.jpg   mask99.jpg\t seg159.jpg   seg3.jpg\n",
            "mask1598.jpg  mask399.jpg   mask9.jpg\t seg15.jpg    seg400.jpg\n",
            "mask1599.jpg  mask39.jpg    sample_data  seg1600.jpg  seg401.jpg\n",
            "mask159.jpg   mask3.jpg     seg0.jpg\t seg1601.jpg  seg402.jpg\n"
          ]
        }
      ]
    },
    {
      "cell_type": "markdown",
      "metadata": {
        "id": "YmfxTGmzhw-Q"
      },
      "source": [
        ""
      ]
    },
    {
      "cell_type": "code",
      "metadata": {
        "id": "6EWgGd5fhx6X",
        "colab": {
          "base_uri": "https://localhost:8080/"
        },
        "outputId": "6c3b4c22-6e00-4728-a4fd-6055c6ff8214"
      },
      "source": [
        "X_train.shape"
      ],
      "execution_count": null,
      "outputs": [
        {
          "output_type": "execute_result",
          "data": {
            "text/plain": [
              "(2000, 320, 320, 3)"
            ]
          },
          "metadata": {},
          "execution_count": 21
        }
      ]
    },
    {
      "cell_type": "code",
      "metadata": {
        "colab": {
          "base_uri": "https://localhost:8080/"
        },
        "id": "i5qXNc320irD",
        "outputId": "9b27aac4-8de8-4ba3-8d43-7e374d7b47d1"
      },
      "source": [
        "drive.mount(\"/content/drive/\", force_remount=True)"
      ],
      "execution_count": null,
      "outputs": [
        {
          "output_type": "stream",
          "name": "stdout",
          "text": [
            "Mounted at /content/drive/\n"
          ]
        }
      ]
    },
    {
      "cell_type": "code",
      "metadata": {
        "id": "pHRLS70lHCdL",
        "colab": {
          "base_uri": "https://localhost:8080/"
        },
        "outputId": "344c350d-8d89-4454-afae-fcda32c3ff99"
      },
      "source": [
        "path = \"/content/archive/OUHANDS_test/test/hand_data/colour\"\n",
        "maskpath = \"/content/archive/OUHANDS_test/test/hand_data/segmentation\"\n",
        "\n",
        "X_test = np.zeros((len(os.listdir(path)), IMG_HEIGHT, IMG_WIDTH,IMG_CHANNELS),dtype=np.uint8)\n",
        "Y_test = np.zeros((len(os.listdir(maskpath)), IMG_HEIGHT, IMG_WIDTH,1))\n",
        "print('creating test data')\n",
        "n=0\n",
        "for name in tqdm(os.listdir(path)):\n",
        "    newpath = os.path.join(path,name)\n",
        "    img=cv2.imread(newpath)\n",
        "    img=cv2.resize(img,(IMG_WIDTH,IMG_HEIGHT))\n",
        "    X_test[n]=img\n",
        "    n+=1\n",
        "\n",
        "m=0\n",
        "for name in tqdm(os.listdir(maskpath)):\n",
        "    newmaskpath = os.path.join(maskpath,name)\n",
        "    mpg=cv2.imread(newmaskpath,0)\n",
        "    mpg=cv2.resize(mpg,(IMG_WIDTH,IMG_HEIGHT))\n",
        "    mpg=np.expand_dims(mpg,axis=-1)\n",
        "    Y_test[m]=mpg/255\n",
        "    m+=1"
      ],
      "execution_count": null,
      "outputs": [
        {
          "output_type": "stream",
          "name": "stdout",
          "text": [
            "creating test data\n"
          ]
        },
        {
          "output_type": "stream",
          "name": "stderr",
          "text": [
            "100%|██████████| 1000/1000 [00:11<00:00, 83.76it/s]\n",
            "100%|██████████| 1000/1000 [00:02<00:00, 434.49it/s]\n"
          ]
        }
      ]
    },
    {
      "cell_type": "code",
      "metadata": {
        "id": "OEk3zB-lv63n"
      },
      "source": [
        "from keras.preprocessing.image import ImageDataGenerator, array_to_img, img_to_array, load_img\n",
        "from sklearn.metrics import f1_score"
      ],
      "execution_count": null,
      "outputs": []
    },
    {
      "cell_type": "code",
      "metadata": {
        "id": "x3P7OA91v9O1"
      },
      "source": [
        "def fscore(tp,Images,Masks):\n",
        "    total=0\n",
        "    i=0\n",
        "    fs=0\n",
        "    for i in range(len(Images)):\n",
        "        total += 1\n",
        "        \n",
        "        tp[i][tp[i]>0.5]=1\n",
        "        tp[i][tp[i]<0.5]=0\n",
        "\n",
        "        pred = img_to_array(tp[i]).astype(int)\n",
        "        label = img_to_array(np.squeeze(Masks[i], axis=2)).astype(int)\n",
        "        flat_pred = np.ravel(pred)\n",
        "        flat_label = np.ravel(label)\n",
        "\n",
        "        fs += f1_score(flat_label,flat_pred, average='micro')\n",
        "\n",
        "    fs=fs/total\n",
        "\n",
        "    return fs  "
      ],
      "execution_count": null,
      "outputs": []
    },
    {
      "cell_type": "code",
      "metadata": {
        "colab": {
          "base_uri": "https://localhost:8080/"
        },
        "id": "BLnZmzg_wAS1",
        "outputId": "6af87e7f-9da9-4efb-8141-999ee63d00d9"
      },
      "source": [
        " #    ######evaluate#####\n",
        "model.load_weights(checkpoint_path_recog)\n",
        "y_pred=model.predict(X_test)\n",
        "f=fscore(y_pred,X_test,Y_test)\n",
        "print(f)"
      ],
      "execution_count": null,
      "outputs": [
        {
          "output_type": "stream",
          "name": "stdout",
          "text": [
            "0.969420917968751\n"
          ]
        }
      ]
    },
    {
      "cell_type": "code",
      "metadata": {
        "colab": {
          "base_uri": "https://localhost:8080/",
          "height": 298
        },
        "id": "rHfazfFawIzW",
        "outputId": "5a6dc9eb-e0aa-47e2-9ca6-9ee422ce1a3a"
      },
      "source": [
        "plt.imshow(array_to_img(X_test[0]))\n",
        "plt.title('TEST IMAGE')"
      ],
      "execution_count": null,
      "outputs": [
        {
          "output_type": "execute_result",
          "data": {
            "text/plain": [
              "Text(0.5, 1.0, 'TEST IMAGE')"
            ]
          },
          "metadata": {},
          "execution_count": 29
        },
        {
          "output_type": "display_data",
          "data": {
            "image/png": "[encoded data removed]",
            "text/plain": [
              "<Figure size 432x288 with 1 Axes>"
            ]
          },
          "metadata": {
            "needs_background": "light"
          }
        }
      ]
    },
    {
      "cell_type": "code",
      "metadata": {
        "colab": {
          "base_uri": "https://localhost:8080/",
          "height": 295
        },
        "id": "6rpmfIeYwJv2",
        "outputId": "68c4e8f6-bc50-4745-c87f-da7d126e26e8"
      },
      "source": [
        "plt.imshow(array_to_img(Y_test[0]))\n",
        "plt.title('TEST SEGMENTATION MASK GROUND TRUTH', fontsize=8)"
      ],
      "execution_count": null,
      "outputs": [
        {
          "output_type": "execute_result",
          "data": {
            "text/plain": [
              "Text(0.5, 1.0, 'TEST SEGMENTATION MASK GROUND TRUTH')"
            ]
          },
          "metadata": {},
          "execution_count": 30
        },
        {
          "output_type": "display_data",
          "data": {
            "image/png": "[encoded data removed]",
            "text/plain": [
              "<Figure size 432x288 with 1 Axes>"
            ]
          },
          "metadata": {
            "needs_background": "light"
          }
        }
      ]
    },
    {
      "cell_type": "code",
      "metadata": {
        "colab": {
          "base_uri": "https://localhost:8080/",
          "height": 295
        },
        "id": "g90KZkSBwMzN",
        "outputId": "19fef5c6-1204-4ec1-f43b-13b5419e2f0e"
      },
      "source": [
        "plt.imshow(array_to_img(y_pred[0]))\n",
        "plt.title('TEST SEGMENTATION MASK OBTAINED FROM DEEP LEARNING MODULE', fontsize=8)"
      ],
      "execution_count": null,
      "outputs": [
        {
          "output_type": "execute_result",
          "data": {
            "text/plain": [
              "Text(0.5, 1.0, 'TEST SEGMENTATION MASK OBTAINED FROM DEEP LEARNING MODULE')"
            ]
          },
          "metadata": {},
          "execution_count": 31
        },
        {
          "output_type": "display_data",
          "data": {
            "image/png": "[encoded data removed]",
            "text/plain": [
              "<Figure size 432x288 with 1 Axes>"
            ]
          },
          "metadata": {
            "needs_background": "light"
          }
        }
      ]
    },
    {
      "cell_type": "code",
      "metadata": {
        "id": "xI16P9lW2_ra"
      },
      "source": [
        "x_test_single = np.expand_dims(X_test[7], axis = 0)"
      ],
      "execution_count": null,
      "outputs": []
    },
    {
      "cell_type": "code",
      "metadata": {
        "colab": {
          "base_uri": "https://localhost:8080/"
        },
        "id": "4pGXv0xt3DTN",
        "outputId": "2587da59-fb9e-481e-8419-25abbeb56c26"
      },
      "source": [
        "import time\n",
        "start_time = time.time()\n",
        "y_single = model.predict(x_test_single)\n",
        "print(\"--- %s seconds ---\" % (time.time() - start_time))"
      ],
      "execution_count": null,
      "outputs": [
        {
          "output_type": "stream",
          "name": "stdout",
          "text": [
            "--- 0.847048282623291 seconds ---\n"
          ]
        }
      ]
    }
  ]
}